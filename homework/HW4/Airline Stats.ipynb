{
 "cells": [
  {
   "cell_type": "markdown",
   "metadata": {},
   "source": [
    "We will analyze a dataset containing information about flights in the USA that stems from the [Bureau of Transportation Statistics](https://www.transtats.bts.gov/DL_SelectFields.asp?Table_ID=236&DB_Short_Name=On-Time). In the zip file provided, you will find a directory *airline_data* containing the files 2016_1.csv, ..., 2016_6.csv. Each line of a file (except the headers) contains the flight date, the airline ID, the flight number, the origin airport, the destination airport, the departure time, the departure delay in minutes, the arrival time, the arrival delay in minutes, the time in air in minutes, and the distance between both airports in miles. \n",
    "\n",
    "Preparation (if not done already):\n",
    "\n",
    "1. Copy all the csv files to your virtual machine (e.g., via scp). Alternatively, you can also log in to the virtual machine and download the zip file directy from Absalon.\n",
    "2. Create a directory 'airline_data' on your local Hadoop cluster. Afterwards, copy the csv files from your virtual machine to the Hadoop cluster via 'hadoop fs -put airline_data/*.csv airline_data/'"
   ]
  },
  {
   "cell_type": "code",
   "execution_count": null,
   "metadata": {},
   "outputs": [],
   "source": [
    "# generate an RDD based on all the csv files given in the airline_data directory.\n",
    "# MAKE SURE THAT ONLY THE 2016_*.csv FILES ARE GIVEN IN THE DIRECTORY\n",
    "airline_data = sc.textFile (\"hdfs:///user/lsda/airline_data/*.csv\")"
   ]
  },
  {
   "cell_type": "code",
   "execution_count": null,
   "metadata": {},
   "outputs": [],
   "source": [
    "# each csv file contains a header describing the data\n",
    "header = airline_data.first()\n",
    "print(\"Header information given in the first csv file:\\n\\n{}\".format(header))"
   ]
  },
  {
   "cell_type": "code",
   "execution_count": null,
   "metadata": {},
   "outputs": [],
   "source": [
    "# filter the RDD to remove this header information (each csv file \n",
    "# contains such a line)\n",
    "airline_data = airline_data.filter(lambda line: line != header)\n",
    "\n",
    "# get the first 10 elements and print them\n",
    "print(\"First 10 elements of the RDD:\")\n",
    "airline_data.take(10)"
   ]
  },
  {
   "cell_type": "code",
   "execution_count": null,
   "metadata": {},
   "outputs": [],
   "source": [
    "def parse(line):\n",
    "    \n",
    "    line = line.split(',')\n",
    "    \n",
    "    try:\n",
    "    \n",
    "        airline_id = line[1]\n",
    "        origin = line[3].strip('\\\"')\n",
    "        dest = line[4].strip('\\\"')\n",
    "        dep_delay = float(line[6])\n",
    "        arr_delay = float(line[8])\n",
    "        \n",
    "        return (airline_id, origin, dest, dep_delay, arr_delay)\n",
    "    \n",
    "    except Exception as e:\n",
    "        \n",
    "        # in case of an error: simply return 'None'\n",
    "        return None"
   ]
  },
  {
   "cell_type": "code",
   "execution_count": null,
   "metadata": {},
   "outputs": [],
   "source": [
    "# apply the parsing function to each element via the map\n",
    "# transformation; afterwards, remove all elements that\n",
    "# could not be parsed properly.\n",
    "airlines = airline_data.map(parse)\n",
    "airlines = airlines.filter(lambda line: line is not None)"
   ]
  },
  {
   "cell_type": "code",
   "execution_count": null,
   "metadata": {},
   "outputs": [],
   "source": [
    "# let's inspect the first ten elements\n",
    "airlines.take(10)"
   ]
  },
  {
   "cell_type": "code",
   "execution_count": null,
   "metadata": {},
   "outputs": [],
   "source": [
    "# (a) Shortest Flight Distance\n",
    "\n",
    "# YOUR CODE HERE"
   ]
  },
  {
   "cell_type": "code",
   "execution_count": null,
   "metadata": {},
   "outputs": [],
   "source": [
    "# (b) Late Arrival Counts\n",
    "\n",
    "# YOUR CODE HERE"
   ]
  },
  {
   "cell_type": "code",
   "execution_count": null,
   "metadata": {},
   "outputs": [],
   "source": [
    "# (c) Mean and Standard Deviation for Arrival Delays\n",
    "\n",
    "# YOUR CODE HERE"
   ]
  },
  {
   "cell_type": "code",
   "execution_count": null,
   "metadata": {},
   "outputs": [],
   "source": [
    "# (d) Top-10 of Arrival Delays\n",
    "\n",
    "# YOUR CODE HERE"
   ]
  },
  {
   "cell_type": "code",
   "execution_count": 16,
   "metadata": {},
   "outputs": [
    {
     "data": {
      "text/plain": [
       "1.707825127659933"
      ]
     },
     "execution_count": 16,
     "metadata": {},
     "output_type": "execute_result"
    }
   ],
   "source": [
    "import numpy as np\n",
    "np.mean(4-2+2)\n",
    "np.std([4,5,6,7,8,9])"
   ]
  },
  {
   "cell_type": "code",
   "execution_count": null,
   "metadata": {},
   "outputs": [],
   "source": []
  }
 ],
 "metadata": {
  "kernelspec": {
   "display_name": "Python 3",
   "language": "python",
   "name": "python3"
  },
  "language_info": {
   "codemirror_mode": {
    "name": "ipython",
    "version": 3
   },
   "file_extension": ".py",
   "mimetype": "text/x-python",
   "name": "python",
   "nbconvert_exporter": "python",
   "pygments_lexer": "ipython3",
   "version": "3.7.2"
  }
 },
 "nbformat": 4,
 "nbformat_minor": 2
}
