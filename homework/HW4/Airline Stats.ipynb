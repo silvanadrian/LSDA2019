{
 "cells": [
  {
   "cell_type": "markdown",
   "metadata": {},
   "source": [
    "We will analyze a dataset containing information about flights in the USA that stems from the [Bureau of Transportation Statistics](https://www.transtats.bts.gov/DL_SelectFields.asp?Table_ID=236&DB_Short_Name=On-Time). In the zip file provided, you will find a directory *airline_data* containing the files 2016_1.csv, ..., 2016_6.csv. Each line of a file (except the headers) contains the flight date, the airline ID, the flight number, the origin airport, the destination airport, the departure time, the departure delay in minutes, the arrival time, the arrival delay in minutes, the time in air in minutes, and the distance between both airports in miles. \n",
    "\n",
    "Preparation (if not done already):\n",
    "\n",
    "1. Copy all the csv files to your virtual machine (e.g., via scp). Alternatively, you can also log in to the virtual machine and download the zip file directy from Absalon.\n",
    "2. Create a directory 'airline_data' on your local Hadoop cluster. Afterwards, copy the csv files from your virtual machine to the Hadoop cluster via 'hadoop fs -put airline_data/*.csv airline_data/'"
   ]
  },
  {
   "cell_type": "code",
   "execution_count": 1,
   "metadata": {},
   "outputs": [],
   "source": [
    "# generate an RDD based on all the csv files given in the airline_data directory.\n",
    "# MAKE SURE THAT ONLY THE 2016_*.csv FILES ARE GIVEN IN THE DIRECTORY\n",
    "airline_data = sc.textFile (\"hdfs:///user/lsda/airline_data/*.csv\")"
   ]
  },
  {
   "cell_type": "code",
   "execution_count": 2,
   "metadata": {},
   "outputs": [
    {
     "name": "stdout",
     "output_type": "stream",
     "text": [
      "Header information given in the first csv file:\n",
      "\n",
      "\"FL_DATE\",\"AIRLINE_ID\",\"FL_NUM\",\"ORIGIN\",\"DEST\",\"DEP_TIME\",\"DEP_DELAY\",\"ARR_TIME\",\"ARR_DELAY\",\"AIR_TIME\",\"DISTANCE\",\n"
     ]
    }
   ],
   "source": [
    "# each csv file contains a header describing the data\n",
    "header = airline_data.first()\n",
    "print(\"Header information given in the first csv file:\\n\\n{}\".format(header))"
   ]
  },
  {
   "cell_type": "code",
   "execution_count": 3,
   "metadata": {},
   "outputs": [
    {
     "name": "stdout",
     "output_type": "stream",
     "text": [
      "First 10 elements of the RDD:\n"
     ]
    },
    {
     "data": {
      "text/plain": [
       "['2016-01-01,19790,\"1248\",\"DTW\",\"LAX\",\"1935\",0.00,\"2120\",-24.00,249.00,1979.00,',\n",
       " '2016-01-01,19790,\"1251\",\"ATL\",\"GRR\",\"2130\",5.00,\"2319\",-2.00,92.00,640.00,',\n",
       " '2016-01-01,19790,\"1254\",\"LAX\",\"ATL\",\"2256\",1.00,\"0547\",-13.00,207.00,1947.00,',\n",
       " '2016-01-01,19790,\"1255\",\"SLC\",\"ATL\",\"1700\",4.00,\"2213\",-16.00,173.00,1590.00,',\n",
       " '2016-01-01,19790,\"1256\",\"BZN\",\"MSP\",\"1012\",72.00,\"1420\",124.00,121.00,874.00,',\n",
       " '2016-01-01,19790,\"1257\",\"ATL\",\"BNA\",\"1356\",83.00,\"1402\",83.00,38.00,214.00,',\n",
       " '2016-01-01,19790,\"1257\",\"BNA\",\"ATL\",\"1446\",86.00,\"1644\",74.00,37.00,214.00,',\n",
       " '2016-01-01,19790,\"1258\",\"ATL\",\"JAX\",\"0946\",1.00,\"1053\",3.00,45.00,270.00,',\n",
       " '2016-01-01,19790,\"1258\",\"JAX\",\"ATL\",\"1144\",-1.00,\"1247\",-15.00,43.00,270.00,',\n",
       " '2016-01-01,19790,\"1259\",\"ATL\",\"OKC\",\"2107\",-3.00,\"2224\",-12.00,116.00,761.00,']"
      ]
     },
     "execution_count": 3,
     "metadata": {},
     "output_type": "execute_result"
    }
   ],
   "source": [
    "# filter the RDD to remove this header information (each csv file \n",
    "# contains such a line)\n",
    "airline_data = airline_data.filter(lambda line: line != header)\n",
    "\n",
    "# get the first 10 elements and print them\n",
    "print(\"First 10 elements of the RDD:\")\n",
    "airline_data.take(10)"
   ]
  },
  {
   "cell_type": "code",
   "execution_count": 4,
   "metadata": {},
   "outputs": [],
   "source": [
    "def parse(line):\n",
    "    \n",
    "    line = line.split(',')\n",
    "    \n",
    "    try:\n",
    "    \n",
    "        airline_id = line[1]\n",
    "        origin = line[3].strip('\\\"')\n",
    "        dest = line[4].strip('\\\"')\n",
    "        dep_delay = float(line[6])\n",
    "        arr_delay = float(line[8])\n",
    "        distance = float(line[10])\n",
    "        \n",
    "        return (airline_id, origin, dest, dep_delay, arr_delay, distance)\n",
    "    \n",
    "    except Exception as e:\n",
    "        \n",
    "        # in case of an error: simply return 'None'\n",
    "        return None"
   ]
  },
  {
   "cell_type": "code",
   "execution_count": 5,
   "metadata": {},
   "outputs": [],
   "source": [
    "# apply the parsing function to each element via the map\n",
    "# transformation; afterwards, remove all elements that\n",
    "# could not be parsed properly.\n",
    "airlines = airline_data.map(parse)\n",
    "airlines = airlines.filter(lambda line: line is not None)"
   ]
  },
  {
   "cell_type": "code",
   "execution_count": 6,
   "metadata": {},
   "outputs": [
    {
     "data": {
      "text/plain": [
       "[('19790', 'DTW', 'LAX', 0.0, -24.0, 1979.0),\n",
       " ('19790', 'ATL', 'GRR', 5.0, -2.0, 640.0),\n",
       " ('19790', 'LAX', 'ATL', 1.0, -13.0, 1947.0),\n",
       " ('19790', 'SLC', 'ATL', 4.0, -16.0, 1590.0),\n",
       " ('19790', 'BZN', 'MSP', 72.0, 124.0, 874.0),\n",
       " ('19790', 'ATL', 'BNA', 83.0, 83.0, 214.0),\n",
       " ('19790', 'BNA', 'ATL', 86.0, 74.0, 214.0),\n",
       " ('19790', 'ATL', 'JAX', 1.0, 3.0, 270.0),\n",
       " ('19790', 'JAX', 'ATL', -1.0, -15.0, 270.0),\n",
       " ('19790', 'ATL', 'OKC', -3.0, -12.0, 761.0)]"
      ]
     },
     "execution_count": 6,
     "metadata": {},
     "output_type": "execute_result"
    }
   ],
   "source": [
    "# let's inspect the first ten elements\n",
    "airlines.take(10)"
   ]
  },
  {
   "cell_type": "code",
   "execution_count": 7,
   "metadata": {},
   "outputs": [
    {
     "name": "stdout",
     "output_type": "stream",
     "text": [
      "ID\tDistance\n",
      "('20366', 69.0)\n",
      "('20409', 68.0)\n",
      "('19393', 137.0)\n",
      "('20304', 30.0)\n",
      "('19690', 84.0)\n",
      "('20416', 177.0)\n",
      "('19790', 94.0)\n",
      "('19805', 83.0)\n",
      "('19930', 31.0)\n",
      "('21171', 236.0)\n",
      "('20436', 332.0)\n",
      "('19977', 108.0)\n"
     ]
    }
   ],
   "source": [
    "# (a) Shortest Flight Distance\n",
    "flights = airlines.map(lambda line: (line[0], line[5]))\n",
    "results_dist = flights.reduceByKey(lambda a, b: min(a,b))\n",
    "print(\"ID\\tDistance\")\n",
    "for result in results_dist.collect():\n",
    "    print(result)"
   ]
  },
  {
   "cell_type": "code",
   "execution_count": 8,
   "metadata": {},
   "outputs": [
    {
     "name": "stdout",
     "output_type": "stream",
     "text": [
      "ID\tDelayed\tTotal\tPercentage\n",
      "('20366', (77122, 244919, 31.488777922496823))\n",
      "('20409', (55437, 137534, 40.30785114953394))\n",
      "('19393', (234624, 633348, 37.04503685177817))\n",
      "('20304', (97456, 293875, 33.1623989791578))\n",
      "('19690', (12158, 37800, 32.164021164021165))\n",
      "('20416', (31417, 65913, 47.664345425029964))\n",
      "('19790', (117601, 452072, 26.013776566564616))\n",
      "('19805', (165059, 452040, 36.514246526856034))\n",
      "('19930', (26422, 87496, 30.19795190637286))\n",
      "('21171', (14084, 32891, 42.82022437748928))\n",
      "('20436', (12978, 43444, 29.872939876622777))\n",
      "('19977', (69094, 254466, 27.152546902140166))\n"
     ]
    }
   ],
   "source": [
    "# (b) Late Arrival Counts\n",
    "delayed_flights = airlines.filter(lambda line: line[4] > 0)\n",
    "delayed = delayed_flights.map(lambda line: (line[0],1))\n",
    "results_delayed = delayed.reduceByKey(lambda a,b: a+b)\n",
    "\n",
    "flights = airlines.map(lambda line: (line[0],1))\n",
    "results = flights.reduceByKey(lambda a,b: a+b)\n",
    "\n",
    "results_combined = results_delayed.join(results)\n",
    "results = results_combined.map(lambda line: (line[0],(line[1][0],line[1][1],line[1][0]/line[1][1]*100))).collect()\n",
    "\n",
    "print(\"ID\\tDelayed\\tTotal\\tPercentage\")\n",
    "for result in results:\n",
    "    print(result)"
   ]
  },
  {
   "cell_type": "code",
   "execution_count": 9,
   "metadata": {},
   "outputs": [
    {
     "name": "stdout",
     "output_type": "stream",
     "text": [
      "ID\tMean\tDeviation\n",
      "('20366', (3.2057047432008132, 44.650629511539684))\n",
      "('20409', (8.245044861634215, 44.66785397812182))\n",
      "('19393', (3.227560519651124, 30.30109303783044))\n",
      "('20304', (3.9044287537218203, 44.122724012248916))\n",
      "('19690', (-0.8930423280423281, 23.126745648474056))\n",
      "('20416', (12.206544991124664, 42.44123916637707))\n",
      "('19790', (-1.4154625811817587, 39.86619669104993))\n",
      "('19805', (4.480922042297141, 44.625990837252665))\n",
      "('19930', (-3.122085581055134, 26.807509492056))\n",
      "('21171', (7.240521723267763, 37.55520264018218))\n",
      "('20436', (1.7378694411196023, 46.45093455357346))\n",
      "('19977', (-0.19219463503965167, 42.873551097034806))\n"
     ]
    }
   ],
   "source": [
    "# (c) Mean and Standard Deviation for Arrival Delays\n",
    "import math\n",
    "means = airlines.map(lambda line: (line[0],(line[4],1)))\n",
    "means = means.reduceByKey(lambda x, y: (x[0]+y[0], x[1]+y[1])).mapValues(lambda x: x[0]/x[1])\n",
    "\n",
    "# calculate variance / get standard deviation from it\n",
    "deviation = airlines.map(lambda line: (line[0],line[4]))\n",
    "deviation = deviation.mapValues(lambda x: (1, x, x*x)).reduceByKey(lambda x,y: (x[0]+y[0], x[1]+y[1], x[2]+y[2]))\n",
    "deviation = deviation.mapValues(lambda x: (math.sqrt(x[2]/x[0] - (x[1]/x[0])**2)))\n",
    "\n",
    "results = means.join(deviation).collect()\n",
    "\n",
    "print(\"ID\\tMean\\tDeviation\")\n",
    "for result in results:\n",
    "    print(result)"
   ]
  },
  {
   "cell_type": "code",
   "execution_count": 10,
   "metadata": {},
   "outputs": [
    {
     "name": "stdout",
     "output_type": "stream",
     "text": [
      "ID\tDelays\n",
      "('19393', [748.0, 640.0, 635.0, 625.0, 594.0, 581.0, 579.0, 561.0, 560.0, 543.0])\n",
      "('19690', [1198.0, 1066.0, 995.0, 958.0, 949.0, 924.0, 911.0, 868.0, 808.0, 757.0])\n",
      "('19790', [1231.0, 1223.0, 1185.0, 1176.0, 1156.0, 1153.0, 1153.0, 1150.0, 1143.0, 1138.0])\n",
      "('19805', [1660.0, 1659.0, 1568.0, 1557.0, 1551.0, 1543.0, 1533.0, 1523.0, 1495.0, 1493.0])\n",
      "('19930', [993.0, 890.0, 876.0, 635.0, 621.0, 567.0, 535.0, 514.0, 505.0, 504.0])\n",
      "('19977', [1213.0, 1120.0, 1110.0, 1107.0, 1025.0, 1019.0, 993.0, 990.0, 990.0, 968.0])\n",
      "('20304', [1370.0, 1320.0, 1316.0, 1281.0, 1258.0, 1254.0, 1235.0, 1228.0, 1221.0, 1217.0])\n",
      "('20366', [1237.0, 1234.0, 1191.0, 1187.0, 1175.0, 1158.0, 1158.0, 1152.0, 1137.0, 1125.0])\n",
      "('20409', [798.0, 765.0, 746.0, 676.0, 659.0, 637.0, 616.0, 611.0, 587.0, 577.0])\n",
      "('20416', [892.0, 706.0, 602.0, 584.0, 581.0, 550.0, 542.0, 541.0, 531.0, 501.0])\n",
      "('20436', [707.0, 680.0, 645.0, 630.0, 629.0, 623.0, 597.0, 563.0, 556.0, 556.0])\n",
      "('21171', [391.0, 389.0, 381.0, 364.0, 364.0, 362.0, 355.0, 354.0, 346.0, 342.0])\n"
     ]
    }
   ],
   "source": [
    "# (d) Top-10 of Arrival Delays\n",
    "flight_delays = airlines.map(lambda line: (line[0],[line[4]]))\n",
    "#get airline id and delays as a list\n",
    "flight_delays_byId = flight_delays.reduceByKey(lambda x,y: x+y).sortByKey(True)\n",
    "#sort the list\n",
    "flight_delays_byId_sorted=flight_delays_byId.map( lambda x:(x[0],sorted( x[1],reverse=True)[:10] ) )\n",
    "\n",
    "results=flight_delays_byId_sorted.collect()\n",
    "\n",
    "print(\"ID\\tDelays\")\n",
    "for result in results:\n",
    "    print(result)"
   ]
  },
  {
   "cell_type": "code",
   "execution_count": null,
   "metadata": {},
   "outputs": [],
   "source": []
  }
 ],
 "metadata": {
  "kernelspec": {
   "display_name": "Python 3",
   "language": "python",
   "name": "python3"
  },
  "language_info": {
   "codemirror_mode": {
    "name": "ipython",
    "version": 3
   },
   "file_extension": ".py",
   "mimetype": "text/x-python",
   "name": "python",
   "nbconvert_exporter": "python",
   "pygments_lexer": "ipython3",
   "version": "3.6.7"
  }
 },
 "nbformat": 4,
 "nbformat_minor": 2
}
