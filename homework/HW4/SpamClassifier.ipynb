{
 "cells": [
  {
   "cell_type": "code",
   "execution_count": 1,
   "metadata": {},
   "outputs": [],
   "source": [
    "# copy the data to the corresponding directories on your distributed file system\n",
    "ham = sc.wholeTextFiles(\"hdfs:///user/lsda/data/spam_ham/ham/*.txt\")\n",
    "spam = sc.wholeTextFiles(\"hdfs:///user/lsda/data/spam_ham/spam/*.txt\")"
   ]
  },
  {
   "cell_type": "markdown",
   "metadata": {},
   "source": [
    "## Data"
   ]
  },
  {
   "cell_type": "code",
   "execution_count": 2,
   "metadata": {},
   "outputs": [
    {
     "data": {
      "text/plain": [
       "[('hdfs://localhost:9000/user/lsda/data/spam_ham/ham/TRAIN_00002.eml.txt',\n",
       "  \"Re: How to manage multiple Internet connections?From nobody Sun Sep 18 20:45:27 2016\\nContent-Type: text/plain; charset=us-ascii\\nContent-Disposition: inline\\nContent-Transfer-Encoding: quoted-printable\\n\\nOn Sat,15.May.10, 16:47:07, Merciadri Luca wrote:\\r\\n> >\\r\\n> > But will probably not work in you case, as it was meant to combine two=\\r\\n=20\\r\\n> > (or more?) network ports from the same computer connected to the same=\\r\\n=20\\r\\n> > switch.\\r\\n> >  =20\\r\\n> The description says\\r\\n>=20\\r\\n> =3D=3D\\r\\n> The Linux bonding driver provides a method for aggregating\\r\\n> multiple network interfaces into a single logical\\r\\n> bonded  interface.\\r\\n> =3D=3D\\r\\n>=20\\r\\n> Strictly speaking, this is what I want. Now, your interpretation seems\\r\\n> to be based on the definition of a link aggregation, which I am not\\r\\n> really familiar with. Basically, I want to merge connections into one,\\r\\n> or at least divide and use them separately, in an easy way. This is not\\r\\n> a so-rare situation, is it? E.g. you might be wandering in some zone\\r\\n> where you can use the WiFi, but where it is sometimes unavailable, say\\r\\n> at specific regions. If you manage to use another connection, for\\r\\n> example the one that is given by your mobile phone/smartphone /via/\\r\\n> Bluetooth (which is then connected to the internet through other\\r\\n> protocols), it should be possible to switch between these two\\r\\n> connections, or to use them simultaneously, if, say, WiFi 's range is\\r\\n> too small or WiFi's bandwidth too small compared to the smartphone's\\r\\n> one. (Okay, this is not a really realistic example.)\\r\\n>=20\\r\\n> You might also share an internet connection with your neighbour,\\r\\n> legally, and use it a lot when he does not need it. Then, if you already\\r\\n> use ethernet, you can use both connections. But how?\\r\\n\\r\\nBonding is not suitable for you because it works too low-level (it is=20\\r\\nlayer 2), unless you have two links from the same provider, using some=20\\r\\ntechnology that can be bonded (like ADSL).\\r\\n\\r\\nAFAIU what you need is BGP[1], but I can't give you any tips as this is=20\\r\\nway out of my league ;)\\r\\n\\r\\nProbably a good start (whatever technology you end up using) is a=20\\r\\nGNU/Linux (preferably Debian) machine connected to both internet links=20\\r\\nand your internal network since consumer gateways don't even have more=20\\r\\nthan one WAN port[2].\\r\\n\\r\\n[1] http://en.wikipedia.org/wiki/Border_Gateway_Protocol\\r\\n[2] some of them could be used for this with custom firmware, but this=20\\r\\nis off-topic\\r\\n\\r\\nRegards,\\r\\nAndrei\\r\\nP.S. There is no need to CC me as I am subscribed to the list ;)\\r\\n--=20\\r\\nOfftopic discussions among Debian users and developers:\\r\\nhttp://lists.alioth.debian.org/mailman/listinfo/d-community-offtopic\\r\\n\")]"
      ]
     },
     "execution_count": 2,
     "metadata": {},
     "output_type": "execute_result"
    }
   ],
   "source": [
    "ham.take(1)"
   ]
  },
  {
   "cell_type": "code",
   "execution_count": 3,
   "metadata": {},
   "outputs": [
    {
     "data": {
      "text/plain": [
       "[('hdfs://localhost:9000/user/lsda/data/spam_ham/spam/TRAIN_00000.eml.txt',\n",
       "  'One of a kind Money maker! Try it for free!From nobody Sun Sep 18 20:45:27 2016\\nContent-Type: text/html;\\n\\tcharset=\"iso-8859-1\"\\nContent-Transfer-Encoding: 7bit\\n\\n\\n\\nCONSANTLY being\\nbombarded by so-called “FREE” money-making systems that teases you with limited\\ninformation, and when it’s all said and done, blind-sides you by demanding your\\nmoney/credit card information upfront in some slick way, after-the-fact!\\nYes, I too was as skeptical about such offers and the Internet in general with\\nall its hype, as you probably are. Fortunate for me, my main business\\nslowed-down (I have been self-employed all my life), so I looked for\\nsomething to fit my lifestyle and some other way to assist me in paying my\\nbills, without working myself to death or loosing more money; then, this\\nproposal to try something new without any upfront investment (great! because\\nI had none) interested me to click on the link provided. And I don’t regret\\nat all that I did! I am very happy, and happy enough to recommend it to you as\\na system that is true to its word. I mean absolutely no upfront money. You join\\nonly if (when) you make money. You also get to track the results of your\\ntime and efforts instantly and updated daily! I especially liked this idea of\\npersonal control with real-time, staying informed statistics.\\nThis system is quite simply\\nthe most logical, opened, and fair of any others that I’ve seen before. Why?\\nBecause from the start, you get all the specific facts you need to seriously\\nconsider if this is right for you.\\xa0 No teasing. No grand testimonies! No\\nkidding! Just the facts! Unlike in other programs that give you “no idea” of\\ntheir overall plan before first forking over your money/credit card; or worst\\nyet, joining and finding-out too late, after wasting valuable time trying to\\nfigure them out, this system is straightforward and informative, providing you\\nwith the two things you really must know: “What’s it all about?” and “How\\ndoes it work?”. These are the ultimate deal makers or deal breakers that\\nneed to be immediately disclosed, well before discovering that maybe you don’t\\nwant to do that; by then you are “hooked” and now locked into a frustrating\\nbattle to try to get your money back! \\nI call this my “Platinum\\nChoice” because it stands alone as a true, superior deal that is totally\\ndifferent from previously misleading, “hook-first” programs that promise lofty\\nmega-money jackpots, but really just want your money upfront to line their own\\npockets! You’ve seen the headlines: “Join free and Make $10,000 every week\\nfor life” yeah, right!\\nI did not make millions yet,\\nbut the whole thing was launched just a few weeks ago and I am more than happy\\nwith my earnings, so far. I must tell you, I wouldn’t be able to do anything\\nwithout corporate help – which was unusually thorough, timely, and motivating. \\nYou have to see this in action\\nfor yourself and make up your own mind; just go to my site and fill out the\\nform as soon as you can. You will get your own site in a few minutes. Then you\\nare ready to try whether you can make some decent money with this system and\\nthe Internet’s explosive potential - fully loaded with hi-tech software, free\\ncorporate help, on-time member’s support and even protective safeguards! \\nGet it now, and you can call me\\nat any time with questions. It really could help you like it is helping me to\\nfinally be able to pay my bills, and keep my free time free.\\xa0 Good luck!\\nhttp://www.mindupmerchants.com/default.asp?ID=5581\\nBen Green, (775) 322-3323 \\nP.S.Free POP3 email is ofered for members now!\\n\\n\\n')]"
      ]
     },
     "execution_count": 3,
     "metadata": {},
     "output_type": "execute_result"
    }
   ],
   "source": [
    "spam.take(1)"
   ]
  },
  {
   "cell_type": "markdown",
   "metadata": {},
   "source": [
    "## Processing "
   ]
  },
  {
   "cell_type": "code",
   "execution_count": 4,
   "metadata": {},
   "outputs": [
    {
     "name": "stdout",
     "output_type": "stream",
     "text": [
      "[['One', 'of', 'a', 'kind', 'Money', 'maker!', 'Try', 'it', 'for', 'free!From', 'nobody', 'Sun', 'Sep', '18', '20:45:27', '2016\\nContent-Type:', 'text/html;\\n\\tcharset=\"iso-8859-1\"\\nContent-Transfer-Encoding:', '7bit\\n\\n\\n\\nCONSANTLY', 'being\\nbombarded', 'by', 'so-called', '“FREE”', 'money-making', 'systems', 'that', 'teases', 'you', 'with', 'limited\\ninformation,', 'and', 'when', 'it’s', 'all', 'said', 'and', 'done,', 'blind-sides', 'you', 'by', 'demanding', 'your\\nmoney/credit', 'card', 'information', 'upfront', 'in', 'some', 'slick', 'way,', 'after-the-fact!\\nYes,', 'I', 'too', 'was', 'as', 'skeptical', 'about', 'such', 'offers', 'and', 'the', 'Internet', 'in', 'general', 'with\\nall', 'its', 'hype,', 'as', 'you', 'probably', 'are.', 'Fortunate', 'for', 'me,', 'my', 'main', 'business\\nslowed-down', '(I', 'have', 'been', 'self-employed', 'all', 'my', 'life),', 'so', 'I', 'looked', 'for\\nsomething', 'to', 'fit', 'my', 'lifestyle', 'and', 'some', 'other', 'way', 'to', 'assist', 'me', 'in', 'paying', 'my\\nbills,', 'without', 'working', 'myself', 'to', 'death', 'or', 'loosing', 'more', 'money;', 'then,', 'this\\nproposal', 'to', 'try', 'something', 'new', 'without', 'any', 'upfront', 'investment', '(great!', 'because\\nI', 'had', 'none)', 'interested', 'me', 'to', 'click', 'on', 'the', 'link', 'provided.', 'And', 'I', 'don’t', 'regret\\nat', 'all', 'that', 'I', 'did!', 'I', 'am', 'very', 'happy,', 'and', 'happy', 'enough', 'to', 'recommend', 'it', 'to', 'you', 'as\\na', 'system', 'that', 'is', 'true', 'to', 'its', 'word.', 'I', 'mean', 'absolutely', 'no', 'upfront', 'money.', 'You', 'join\\nonly', 'if', '(when)', 'you', 'make', 'money.', 'You', 'also', 'get', 'to', 'track', 'the', 'results', 'of', 'your\\ntime', 'and', 'efforts', 'instantly', 'and', 'updated', 'daily!', 'I', 'especially', 'liked', 'this', 'idea', 'of\\npersonal', 'control', 'with', 'real-time,', 'staying', 'informed', 'statistics.\\nThis', 'system', 'is', 'quite', 'simply\\nthe', 'most', 'logical,', 'opened,', 'and', 'fair', 'of', 'any', 'others', 'that', 'I’ve', 'seen', 'before.', 'Why?\\nBecause', 'from', 'the', 'start,', 'you', 'get', 'all', 'the', 'specific', 'facts', 'you', 'need', 'to', 'seriously\\nconsider', 'if', 'this', 'is', 'right', 'for', 'you.\\xa0', 'No', 'teasing.', 'No', 'grand', 'testimonies!', 'No\\nkidding!', 'Just', 'the', 'facts!', 'Unlike', 'in', 'other', 'programs', 'that', 'give', 'you', '“no', 'idea”', 'of\\ntheir', 'overall', 'plan', 'before', 'first', 'forking', 'over', 'your', 'money/credit', 'card;', 'or', 'worst\\nyet,', 'joining', 'and', 'finding-out', 'too', 'late,', 'after', 'wasting', 'valuable', 'time', 'trying', 'to\\nfigure', 'them', 'out,', 'this', 'system', 'is', 'straightforward', 'and', 'informative,', 'providing', 'you\\nwith', 'the', 'two', 'things', 'you', 'really', 'must', 'know:', '“What’s', 'it', 'all', 'about?”', 'and', '“How\\ndoes', 'it', 'work?”.', 'These', 'are', 'the', 'ultimate', 'deal', 'makers', 'or', 'deal', 'breakers', 'that\\nneed', 'to', 'be', 'immediately', 'disclosed,', 'well', 'before', 'discovering', 'that', 'maybe', 'you', 'don’t\\nwant', 'to', 'do', 'that;', 'by', 'then', 'you', 'are', '“hooked”', 'and', 'now', 'locked', 'into', 'a', 'frustrating\\nbattle', 'to', 'try', 'to', 'get', 'your', 'money', 'back!', '\\nI', 'call', 'this', 'my', '“Platinum\\nChoice”', 'because', 'it', 'stands', 'alone', 'as', 'a', 'true,', 'superior', 'deal', 'that', 'is', 'totally\\ndifferent', 'from', 'previously', 'misleading,', '“hook-first”', 'programs', 'that', 'promise', 'lofty\\nmega-money', 'jackpots,', 'but', 'really', 'just', 'want', 'your', 'money', 'upfront', 'to', 'line', 'their', 'own\\npockets!', 'You’ve', 'seen', 'the', 'headlines:', '“Join', 'free', 'and', 'Make', '$10,000', 'every', 'week\\nfor', 'life”', 'yeah,', 'right!\\nI', 'did', 'not', 'make', 'millions', 'yet,\\nbut', 'the', 'whole', 'thing', 'was', 'launched', 'just', 'a', 'few', 'weeks', 'ago', 'and', 'I', 'am', 'more', 'than', 'happy\\nwith', 'my', 'earnings,', 'so', 'far.', 'I', 'must', 'tell', 'you,', 'I', 'wouldn’t', 'be', 'able', 'to', 'do', 'anything\\nwithout', 'corporate', 'help', '–', 'which', 'was', 'unusually', 'thorough,', 'timely,', 'and', 'motivating.', '\\nYou', 'have', 'to', 'see', 'this', 'in', 'action\\nfor', 'yourself', 'and', 'make', 'up', 'your', 'own', 'mind;', 'just', 'go', 'to', 'my', 'site', 'and', 'fill', 'out', 'the\\nform', 'as', 'soon', 'as', 'you', 'can.', 'You', 'will', 'get', 'your', 'own', 'site', 'in', 'a', 'few', 'minutes.', 'Then', 'you\\nare', 'ready', 'to', 'try', 'whether', 'you', 'can', 'make', 'some', 'decent', 'money', 'with', 'this', 'system', 'and\\nthe', 'Internet’s', 'explosive', 'potential', '-', 'fully', 'loaded', 'with', 'hi-tech', 'software,', 'free\\ncorporate', 'help,', 'on-time', 'member’s', 'support', 'and', 'even', 'protective', 'safeguards!', '\\nGet', 'it', 'now,', 'and', 'you', 'can', 'call', 'me\\nat', 'any', 'time', 'with', 'questions.', 'It', 'really', 'could', 'help', 'you', 'like', 'it', 'is', 'helping', 'me', 'to\\nfinally', 'be', 'able', 'to', 'pay', 'my', 'bills,', 'and', 'keep', 'my', 'free', 'time', 'free.\\xa0', 'Good', 'luck!\\nhttp://www.mindupmerchants.com/default.asp?ID=5581\\nBen', 'Green,', '(775)', '322-3323', '\\nP.S.Free', 'POP3', 'email', 'is', 'ofered', 'for', 'members', 'now!\\n\\n\\n']]\n",
      "[['Re:', 'How', 'to', 'manage', 'multiple', 'Internet', 'connections?From', 'nobody', 'Sun', 'Sep', '18', '20:45:27', '2016\\nContent-Type:', 'text/plain;', 'charset=us-ascii\\nContent-Disposition:', 'inline\\nContent-Transfer-Encoding:', 'quoted-printable\\n\\nOn', 'Sat,15.May.10,', '16:47:07,', 'Merciadri', 'Luca', 'wrote:\\r\\n>', '>\\r\\n>', '>', 'But', 'will', 'probably', 'not', 'work', 'in', 'you', 'case,', 'as', 'it', 'was', 'meant', 'to', 'combine', 'two=\\r\\n=20\\r\\n>', '>', '(or', 'more?)', 'network', 'ports', 'from', 'the', 'same', 'computer', 'connected', 'to', 'the', 'same=\\r\\n=20\\r\\n>', '>', 'switch.\\r\\n>', '>', '', '=20\\r\\n>', 'The', 'description', 'says\\r\\n>=20\\r\\n>', '=3D=3D\\r\\n>', 'The', 'Linux', 'bonding', 'driver', 'provides', 'a', 'method', 'for', 'aggregating\\r\\n>', 'multiple', 'network', 'interfaces', 'into', 'a', 'single', 'logical\\r\\n>', 'bonded', '', 'interface.\\r\\n>', '=3D=3D\\r\\n>=20\\r\\n>', 'Strictly', 'speaking,', 'this', 'is', 'what', 'I', 'want.', 'Now,', 'your', 'interpretation', 'seems\\r\\n>', 'to', 'be', 'based', 'on', 'the', 'definition', 'of', 'a', 'link', 'aggregation,', 'which', 'I', 'am', 'not\\r\\n>', 'really', 'familiar', 'with.', 'Basically,', 'I', 'want', 'to', 'merge', 'connections', 'into', 'one,\\r\\n>', 'or', 'at', 'least', 'divide', 'and', 'use', 'them', 'separately,', 'in', 'an', 'easy', 'way.', 'This', 'is', 'not\\r\\n>', 'a', 'so-rare', 'situation,', 'is', 'it?', 'E.g.', 'you', 'might', 'be', 'wandering', 'in', 'some', 'zone\\r\\n>', 'where', 'you', 'can', 'use', 'the', 'WiFi,', 'but', 'where', 'it', 'is', 'sometimes', 'unavailable,', 'say\\r\\n>', 'at', 'specific', 'regions.', 'If', 'you', 'manage', 'to', 'use', 'another', 'connection,', 'for\\r\\n>', 'example', 'the', 'one', 'that', 'is', 'given', 'by', 'your', 'mobile', 'phone/smartphone', '/via/\\r\\n>', 'Bluetooth', '(which', 'is', 'then', 'connected', 'to', 'the', 'internet', 'through', 'other\\r\\n>', 'protocols),', 'it', 'should', 'be', 'possible', 'to', 'switch', 'between', 'these', 'two\\r\\n>', 'connections,', 'or', 'to', 'use', 'them', 'simultaneously,', 'if,', 'say,', 'WiFi', \"'s\", 'range', 'is\\r\\n>', 'too', 'small', 'or', \"WiFi's\", 'bandwidth', 'too', 'small', 'compared', 'to', 'the', \"smartphone's\\r\\n>\", 'one.', '(Okay,', 'this', 'is', 'not', 'a', 'really', 'realistic', 'example.)\\r\\n>=20\\r\\n>', 'You', 'might', 'also', 'share', 'an', 'internet', 'connection', 'with', 'your', 'neighbour,\\r\\n>', 'legally,', 'and', 'use', 'it', 'a', 'lot', 'when', 'he', 'does', 'not', 'need', 'it.', 'Then,', 'if', 'you', 'already\\r\\n>', 'use', 'ethernet,', 'you', 'can', 'use', 'both', 'connections.', 'But', 'how?\\r\\n\\r\\nBonding', 'is', 'not', 'suitable', 'for', 'you', 'because', 'it', 'works', 'too', 'low-level', '(it', 'is=20\\r\\nlayer', '2),', 'unless', 'you', 'have', 'two', 'links', 'from', 'the', 'same', 'provider,', 'using', 'some=20\\r\\ntechnology', 'that', 'can', 'be', 'bonded', '(like', 'ADSL).\\r\\n\\r\\nAFAIU', 'what', 'you', 'need', 'is', 'BGP[1],', 'but', 'I', \"can't\", 'give', 'you', 'any', 'tips', 'as', 'this', 'is=20\\r\\nway', 'out', 'of', 'my', 'league', ';)\\r\\n\\r\\nProbably', 'a', 'good', 'start', '(whatever', 'technology', 'you', 'end', 'up', 'using)', 'is', 'a=20\\r\\nGNU/Linux', '(preferably', 'Debian)', 'machine', 'connected', 'to', 'both', 'internet', 'links=20\\r\\nand', 'your', 'internal', 'network', 'since', 'consumer', 'gateways', \"don't\", 'even', 'have', 'more=20\\r\\nthan', 'one', 'WAN', 'port[2].\\r\\n\\r\\n[1]', 'http://en.wikipedia.org/wiki/Border_Gateway_Protocol\\r\\n[2]', 'some', 'of', 'them', 'could', 'be', 'used', 'for', 'this', 'with', 'custom', 'firmware,', 'but', 'this=20\\r\\nis', 'off-topic\\r\\n\\r\\nRegards,\\r\\nAndrei\\r\\nP.S.', 'There', 'is', 'no', 'need', 'to', 'CC', 'me', 'as', 'I', 'am', 'subscribed', 'to', 'the', 'list', ';)\\r\\n--=20\\r\\nOfftopic', 'discussions', 'among', 'Debian', 'users', 'and', 'developers:\\r\\nhttp://lists.alioth.debian.org/mailman/listinfo/d-community-offtopic\\r\\n']]\n"
     ]
    }
   ],
   "source": [
    "spam_content = spam.map(lambda line: line[1].split(\" \"))\n",
    "ham_content = ham.map(lambda line: line[1].split(\" \"))\n",
    "\n",
    "print(spam_content.take(1))\n",
    "print(ham_content.take(1))"
   ]
  },
  {
   "cell_type": "code",
   "execution_count": 5,
   "metadata": {},
   "outputs": [],
   "source": [
    "from pyspark.mllib.feature import HashingTF\n",
    "\n",
    "tf = HashingTF(numFeatures = 10000)\n",
    "spam_features = tf.transform(spam_content)\n",
    "ham_features = tf.transform(ham_content)"
   ]
  },
  {
   "cell_type": "code",
   "execution_count": 6,
   "metadata": {},
   "outputs": [
    {
     "name": "stdout",
     "output_type": "stream",
     "text": [
      "[SparseVector(10000, {120: 1.0, 130: 1.0, 148: 1.0, 183: 1.0, 186: 1.0, 217: 1.0, 222: 2.0, 246: 1.0, 251: 3.0, 329: 1.0, 343: 4.0, 353: 1.0, 365: 20.0, 367: 3.0, 455: 1.0, 474: 1.0, 514: 1.0, 522: 1.0, 554: 2.0, 599: 1.0, 664: 1.0, 665: 1.0, 698: 1.0, 747: 1.0, 777: 8.0, 799: 1.0, 826: 1.0, 877: 1.0, 913: 1.0, 916: 2.0, 940: 1.0, 956: 1.0, 962: 1.0, 995: 1.0, 1030: 2.0, 1037: 1.0, 1111: 1.0, 1136: 1.0, 1163: 1.0, 1202: 1.0, 1222: 1.0, 1254: 1.0, 1258: 2.0, 1310: 1.0, 1327: 1.0, 1344: 1.0, 1363: 10.0, 1383: 1.0, 1446: 1.0, 1447: 1.0, 1470: 2.0, 1489: 1.0, 1495: 3.0, 1519: 1.0, 1528: 1.0, 1547: 1.0, 1550: 1.0, 1562: 1.0, 1583: 1.0, 1610: 1.0, 1619: 1.0, 1627: 1.0, 1633: 1.0, 1649: 1.0, 1656: 1.0, 1667: 1.0, 1691: 2.0, 1696: 1.0, 1765: 1.0, 1770: 1.0, 1780: 1.0, 1793: 1.0, 1819: 2.0, 1840: 1.0, 1898: 5.0, 1914: 1.0, 2001: 1.0, 2028: 1.0, 2045: 1.0, 2055: 1.0, 2073: 1.0, 2083: 1.0, 2093: 1.0, 2097: 1.0, 2108: 1.0, 2147: 1.0, 2174: 1.0, 2220: 1.0, 2296: 1.0, 2320: 1.0, 2321: 16.0, 2330: 1.0, 2355: 1.0, 2390: 3.0, 2403: 3.0, 2492: 1.0, 2516: 1.0, 2547: 1.0, 2661: 1.0, 2680: 1.0, 2711: 1.0, 2721: 1.0, 2752: 1.0, 2789: 1.0, 2811: 1.0, 2824: 1.0, 2830: 1.0, 2837: 1.0, 2878: 2.0, 2888: 1.0, 2945: 1.0, 2965: 1.0, 2993: 1.0, 2998: 1.0, 2999: 1.0, 3035: 1.0, 3043: 1.0, 3051: 1.0, 3080: 3.0, 3089: 1.0, 3117: 1.0, 3127: 1.0, 3130: 1.0, 3140: 3.0, 3142: 1.0, 3214: 1.0, 3224: 2.0, 3226: 1.0, 3289: 5.0, 3317: 10.0, 3350: 1.0, 3430: 1.0, 3441: 3.0, 3591: 1.0, 3647: 1.0, 3688: 1.0, 3701: 1.0, 3710: 1.0, 3800: 1.0, 3812: 1.0, 3814: 1.0, 3856: 1.0, 3857: 1.0, 3868: 1.0, 3870: 7.0, 3900: 1.0, 3918: 1.0, 3920: 1.0, 3984: 1.0, 4001: 1.0, 4007: 4.0, 4013: 1.0, 4056: 1.0, 4132: 1.0, 4150: 1.0, 4174: 4.0, 4312: 1.0, 4321: 1.0, 4323: 4.0, 4347: 1.0, 4356: 1.0, 4368: 1.0, 4370: 1.0, 4373: 3.0, 4387: 1.0, 4390: 1.0, 4393: 1.0, 4407: 1.0, 4411: 1.0, 4427: 1.0, 4433: 1.0, 4553: 2.0, 4581: 1.0, 4592: 1.0, 4596: 1.0, 4615: 5.0, 4617: 1.0, 4669: 1.0, 4707: 1.0, 4713: 1.0, 4730: 1.0, 4754: 1.0, 4792: 1.0, 4907: 1.0, 4918: 1.0, 4934: 1.0, 4964: 1.0, 4998: 1.0, 5000: 1.0, 5009: 1.0, 5061: 1.0, 5242: 1.0, 5270: 1.0, 5272: 1.0, 5313: 3.0, 5336: 3.0, 5381: 1.0, 5544: 1.0, 5563: 1.0, 5564: 1.0, 5596: 1.0, 5606: 1.0, 5608: 1.0, 5622: 1.0, 5625: 1.0, 5675: 1.0, 5678: 1.0, 5693: 1.0, 5706: 2.0, 5769: 1.0, 5795: 1.0, 5801: 1.0, 5803: 1.0, 5880: 1.0, 5899: 1.0, 5964: 1.0, 5997: 2.0, 6043: 8.0, 6052: 6.0, 6054: 1.0, 6086: 1.0, 6093: 1.0, 6147: 5.0, 6200: 1.0, 6225: 1.0, 6249: 1.0, 6297: 1.0, 6300: 2.0, 6351: 1.0, 6370: 1.0, 6408: 1.0, 6429: 1.0, 6433: 1.0, 6437: 1.0, 6447: 1.0, 6470: 2.0, 6482: 1.0, 6538: 2.0, 6567: 1.0, 6579: 1.0, 6637: 3.0, 6642: 1.0, 6676: 1.0, 6713: 1.0, 6714: 3.0, 6737: 1.0, 6739: 1.0, 6772: 1.0, 6784: 1.0, 6808: 1.0, 6827: 4.0, 6839: 1.0, 6938: 1.0, 6942: 2.0, 7003: 7.0, 7012: 1.0, 7040: 1.0, 7069: 2.0, 7119: 5.0, 7143: 1.0, 7156: 1.0, 7192: 1.0, 7247: 1.0, 7253: 1.0, 7296: 3.0, 7307: 1.0, 7331: 1.0, 7347: 1.0, 7383: 1.0, 7472: 1.0, 7495: 1.0, 7522: 1.0, 7533: 1.0, 7586: 1.0, 7640: 3.0, 7641: 1.0, 7646: 1.0, 7680: 1.0, 7756: 1.0, 7766: 2.0, 7815: 1.0, 7816: 1.0, 7859: 1.0, 7872: 1.0, 7925: 3.0, 7946: 3.0, 7957: 1.0, 7973: 1.0, 8008: 1.0, 8012: 1.0, 8040: 1.0, 8057: 1.0, 8086: 1.0, 8105: 1.0, 8109: 1.0, 8141: 1.0, 8185: 1.0, 8242: 6.0, 8273: 1.0, 8302: 1.0, 8308: 2.0, 8351: 1.0, 8425: 1.0, 8463: 2.0, 8469: 1.0, 8470: 1.0, 8487: 1.0, 8540: 1.0, 8545: 1.0, 8632: 1.0, 8652: 1.0, 8666: 1.0, 8672: 1.0, 8674: 1.0, 8695: 2.0, 8701: 1.0, 8707: 1.0, 8736: 2.0, 8751: 1.0, 8820: 1.0, 8907: 1.0, 8909: 1.0, 8956: 2.0, 8963: 1.0, 8969: 1.0, 9040: 1.0, 9053: 1.0, 9101: 20.0, 9169: 1.0, 9197: 1.0, 9221: 1.0, 9223: 1.0, 9238: 1.0, 9241: 1.0, 9291: 1.0, 9307: 1.0, 9325: 1.0, 9366: 1.0, 9380: 1.0, 9387: 1.0, 9391: 1.0, 9399: 2.0, 9414: 1.0, 9484: 1.0, 9604: 1.0, 9614: 2.0, 9664: 1.0, 9671: 1.0, 9740: 1.0, 9777: 1.0, 9781: 1.0, 9817: 2.0, 9903: 3.0, 9976: 1.0, 9990: 1.0})]\n",
      "[SparseVector(10000, {0: 2.0, 26: 1.0, 33: 1.0, 64: 1.0, 66: 1.0, 78: 1.0, 82: 1.0, 90: 3.0, 109: 1.0, 119: 1.0, 120: 1.0, 145: 1.0, 176: 1.0, 216: 1.0, 251: 1.0, 253: 1.0, 314: 1.0, 316: 1.0, 329: 1.0, 365: 13.0, 367: 2.0, 371: 1.0, 455: 1.0, 463: 1.0, 482: 1.0, 487: 1.0, 497: 2.0, 512: 1.0, 514: 1.0, 665: 1.0, 777: 2.0, 788: 3.0, 803: 1.0, 873: 1.0, 882: 1.0, 1037: 1.0, 1115: 1.0, 1136: 1.0, 1183: 3.0, 1310: 1.0, 1363: 5.0, 1413: 1.0, 1446: 1.0, 1495: 1.0, 1499: 2.0, 1522: 1.0, 1524: 1.0, 1547: 1.0, 1583: 4.0, 1619: 1.0, 1649: 3.0, 1656: 1.0, 1696: 3.0, 1699: 2.0, 1702: 1.0, 1707: 1.0, 1733: 1.0, 1739: 1.0, 1819: 3.0, 1881: 1.0, 1898: 3.0, 1901: 1.0, 1907: 1.0, 1982: 1.0, 1985: 1.0, 1995: 1.0, 2016: 1.0, 2028: 1.0, 2054: 1.0, 2145: 1.0, 2175: 2.0, 2235: 1.0, 2321: 11.0, 2330: 1.0, 2338: 1.0, 2355: 1.0, 2379: 1.0, 2403: 1.0, 2412: 1.0, 2425: 1.0, 2486: 1.0, 2534: 1.0, 2549: 1.0, 2564: 1.0, 2592: 1.0, 2767: 1.0, 2783: 1.0, 3023: 1.0, 3080: 3.0, 3140: 1.0, 3154: 1.0, 3166: 1.0, 3174: 1.0, 3200: 1.0, 3289: 7.0, 3317: 9.0, 3330: 1.0, 3411: 1.0, 3441: 1.0, 3462: 1.0, 3545: 1.0, 3556: 1.0, 3587: 1.0, 3626: 1.0, 3645: 1.0, 3710: 1.0, 3781: 1.0, 3870: 11.0, 3918: 2.0, 4017: 1.0, 4120: 1.0, 4268: 1.0, 4320: 1.0, 4321: 1.0, 4325: 1.0, 4367: 1.0, 4373: 5.0, 4407: 1.0, 4464: 1.0, 4582: 2.0, 4592: 1.0, 4603: 1.0, 4618: 1.0, 4770: 2.0, 4816: 2.0, 4910: 2.0, 4943: 1.0, 4945: 1.0, 4987: 1.0, 5016: 1.0, 5119: 1.0, 5145: 1.0, 5167: 1.0, 5172: 2.0, 5264: 1.0, 5545: 1.0, 5631: 1.0, 5665: 1.0, 5702: 1.0, 5706: 2.0, 5750: 1.0, 5772: 2.0, 5887: 1.0, 5906: 1.0, 5909: 1.0, 5927: 1.0, 5990: 1.0, 6040: 1.0, 6043: 1.0, 6052: 3.0, 6133: 1.0, 6142: 1.0, 6147: 4.0, 6158: 4.0, 6162: 7.0, 6221: 1.0, 6239: 1.0, 6253: 1.0, 6299: 1.0, 6300: 2.0, 6302: 1.0, 6371: 1.0, 6408: 3.0, 6422: 1.0, 6447: 1.0, 6498: 1.0, 6504: 1.0, 6544: 1.0, 6619: 1.0, 6676: 1.0, 6756: 1.0, 6768: 1.0, 6769: 1.0, 6783: 1.0, 6795: 1.0, 6827: 3.0, 6843: 3.0, 6848: 2.0, 6919: 1.0, 6980: 1.0, 7003: 5.0, 7009: 1.0, 7034: 1.0, 7057: 1.0, 7062: 1.0, 7069: 2.0, 7117: 1.0, 7119: 2.0, 7192: 1.0, 7296: 2.0, 7297: 1.0, 7327: 2.0, 7379: 1.0, 7380: 1.0, 7438: 1.0, 7493: 1.0, 7495: 1.0, 7544: 1.0, 7546: 1.0, 7592: 1.0, 7755: 2.0, 7757: 1.0, 7800: 2.0, 7827: 1.0, 7859: 1.0, 7867: 1.0, 7872: 1.0, 7925: 1.0, 7958: 1.0, 7970: 1.0, 8023: 1.0, 8024: 1.0, 8057: 1.0, 8058: 1.0, 8166: 1.0, 8189: 1.0, 8242: 4.0, 8385: 1.0, 8550: 1.0, 8557: 1.0, 8569: 1.0, 8570: 1.0, 8634: 1.0, 8655: 1.0, 8674: 1.0, 8679: 1.0, 8695: 1.0, 8724: 1.0, 8747: 1.0, 8781: 1.0, 8948: 1.0, 8975: 1.0, 9060: 1.0, 9091: 1.0, 9101: 3.0, 9124: 1.0, 9129: 1.0, 9143: 1.0, 9289: 1.0, 9326: 1.0, 9333: 1.0, 9399: 3.0, 9401: 1.0, 9484: 1.0, 9500: 1.0, 9607: 2.0, 9672: 1.0, 9684: 1.0, 9718: 1.0, 9740: 1.0, 9777: 1.0, 9862: 2.0, 9864: 1.0, 9903: 3.0})]\n"
     ]
    }
   ],
   "source": [
    "print(spam_features.take(1))\n",
    "print(ham_features.take(1))"
   ]
  },
  {
   "cell_type": "markdown",
   "metadata": {},
   "source": [
    "## Label"
   ]
  },
  {
   "cell_type": "code",
   "execution_count": 7,
   "metadata": {},
   "outputs": [],
   "source": [
    "from pyspark.mllib.regression import LabeledPoint\n",
    "spam_samples = spam_features.map(lambda features:LabeledPoint(1, features))\n",
    "ham_samples = ham_features.map(lambda features:LabeledPoint(0, features))"
   ]
  },
  {
   "cell_type": "markdown",
   "metadata": {},
   "source": [
    "## Test/Training data"
   ]
  },
  {
   "cell_type": "code",
   "execution_count": 8,
   "metadata": {},
   "outputs": [
    {
     "data": {
      "text/plain": [
       "PythonRDD[14] at RDD at PythonRDD.scala:53"
      ]
     },
     "execution_count": 8,
     "metadata": {},
     "output_type": "execute_result"
    }
   ],
   "source": [
    "full_data = spam_samples.union(ham_samples)\n",
    "[training_data, test_data] = full_data.randomSplit([0.8, 0.2],0)\n",
    "training_data.cache()\n",
    "test_data.cache()"
   ]
  },
  {
   "cell_type": "markdown",
   "metadata": {},
   "source": [
    "## linear Regression"
   ]
  },
  {
   "cell_type": "code",
   "execution_count": 9,
   "metadata": {},
   "outputs": [],
   "source": [
    "from pyspark.mllib.classification import LogisticRegressionWithLBFGS\n",
    "algo = LogisticRegressionWithLBFGS()\n",
    "model = algo.train(training_data)"
   ]
  },
  {
   "cell_type": "markdown",
   "metadata": {},
   "source": [
    "## Evaluation"
   ]
  },
  {
   "cell_type": "code",
   "execution_count": 10,
   "metadata": {},
   "outputs": [
    {
     "name": "stdout",
     "output_type": "stream",
     "text": [
      "0.9035087719298246\n"
     ]
    }
   ],
   "source": [
    "from pyspark.mllib.evaluation import MulticlassMetrics\n",
    "preds_and_labels = test_data.map(lambda line: (float(model.predict(line.features)), line.label))\n",
    "metrics = MulticlassMetrics(preds_and_labels)\n",
    "print(metrics.precision())"
   ]
  },
  {
   "cell_type": "markdown",
   "metadata": {},
   "source": [
    "# Second part"
   ]
  },
  {
   "cell_type": "code",
   "execution_count": 24,
   "metadata": {},
   "outputs": [],
   "source": [
    "# use dataframes\n",
    "ham_df = ham.toDF([\"link\",\"content\"])\n",
    "spam_df = spam.toDF([\"link\",\"content\"])"
   ]
  },
  {
   "cell_type": "code",
   "execution_count": 25,
   "metadata": {},
   "outputs": [
    {
     "name": "stdout",
     "output_type": "stream",
     "text": [
      "+--------------------+--------------------+\n",
      "|                link|             content|\n",
      "+--------------------+--------------------+\n",
      "|hdfs://localhost:...|Re: How to manage...|\n",
      "+--------------------+--------------------+\n",
      "only showing top 1 row\n",
      "\n",
      "+--------------------+--------------------+\n",
      "|                link|             content|\n",
      "+--------------------+--------------------+\n",
      "|hdfs://localhost:...|One of a kind Mon...|\n",
      "+--------------------+--------------------+\n",
      "only showing top 1 row\n",
      "\n"
     ]
    }
   ],
   "source": [
    "ham_df.show(1)\n",
    "spam_df.show(1)"
   ]
  },
  {
   "cell_type": "code",
   "execution_count": 26,
   "metadata": {},
   "outputs": [],
   "source": [
    "from pyspark.sql.functions import lower, regexp_replace, split\n",
    "ham_content = ham_df.select(lower(regexp_replace('content', \"[^a-zA-Z\\\\s]\", \"\")).alias(\"content\"))\n",
    "spam_content = spam_df.select(lower(regexp_replace('content', \"[^a-zA-Z\\\\s]\", \"\")).alias(\"content\"))"
   ]
  },
  {
   "cell_type": "code",
   "execution_count": 27,
   "metadata": {},
   "outputs": [
    {
     "name": "stdout",
     "output_type": "stream",
     "text": [
      "+--------------------+------+\n",
      "|             content|labels|\n",
      "+--------------------+------+\n",
      "|re how to manage ...|     0|\n",
      "+--------------------+------+\n",
      "only showing top 1 row\n",
      "\n",
      "None\n",
      "+--------------------+------+\n",
      "|             content|labels|\n",
      "+--------------------+------+\n",
      "|one of a kind mon...|     1|\n",
      "+--------------------+------+\n",
      "only showing top 1 row\n",
      "\n",
      "None\n"
     ]
    }
   ],
   "source": [
    "from pyspark.sql.functions import lit\n",
    "\n",
    "ham_content = ham_content.withColumn('labels', lit(0))\n",
    "spam_content = spam_content.withColumn('labels', lit(1))\n",
    "print(ham_content.show(1))\n",
    "print(spam_content.show(1))"
   ]
  },
  {
   "cell_type": "code",
   "execution_count": 28,
   "metadata": {},
   "outputs": [],
   "source": [
    "data = ham_content.union(spam_content);"
   ]
  },
  {
   "cell_type": "code",
   "execution_count": 29,
   "metadata": {},
   "outputs": [],
   "source": [
    "from pyspark.ml.feature import Tokenizer, StopWordsRemover\n",
    "from pyspark.sql.functions import udf\n",
    "from pyspark.sql.types import ArrayType, StringType\n",
    "\n",
    "tokenizer = Tokenizer(inputCol='content', outputCol='content_token')\n",
    "data_tokens = tokenizer.transform(data).select('content_token', 'labels')\n",
    "\n",
    "remover = StopWordsRemover(inputCol='content_token', outputCol='content_clean')\n",
    "data_clean = remover.transform(data_tokens).select('content_clean', 'labels')"
   ]
  },
  {
   "cell_type": "code",
   "execution_count": 30,
   "metadata": {},
   "outputs": [
    {
     "name": "stdout",
     "output_type": "stream",
     "text": [
      "+--------------------+------+\n",
      "|       content_token|labels|\n",
      "+--------------------+------+\n",
      "|[re, how, to, man...|     0|\n",
      "+--------------------+------+\n",
      "only showing top 1 row\n",
      "\n"
     ]
    }
   ],
   "source": [
    "data_tokens.show(1)"
   ]
  },
  {
   "cell_type": "code",
   "execution_count": 31,
   "metadata": {},
   "outputs": [
    {
     "name": "stdout",
     "output_type": "stream",
     "text": [
      "+--------------------+------+\n",
      "|       content_clean|labels|\n",
      "+--------------------+------+\n",
      "|[re, manage, mult...|     0|\n",
      "+--------------------+------+\n",
      "only showing top 1 row\n",
      "\n"
     ]
    }
   ],
   "source": [
    "data_clean.show(1)"
   ]
  },
  {
   "cell_type": "code",
   "execution_count": 32,
   "metadata": {},
   "outputs": [],
   "source": [
    "from pyspark.ml.feature import HashingTF\n",
    "tf = HashingTF(numFeatures = 10000,inputCol=\"content_clean\", outputCol=\"features\")\n",
    "data_features = tf.transform(data_clean)"
   ]
  },
  {
   "cell_type": "code",
   "execution_count": 33,
   "metadata": {},
   "outputs": [
    {
     "data": {
      "text/plain": [
       "DataFrame[content_clean: array<string>, labels: int, features: vector]"
      ]
     },
     "execution_count": 33,
     "metadata": {},
     "output_type": "execute_result"
    }
   ],
   "source": [
    "[training_data, test_data] = data_features.randomSplit([0.8, 0.2],0)\n",
    "training_data.cache()\n",
    "test_data.cache()"
   ]
  },
  {
   "cell_type": "code",
   "execution_count": 34,
   "metadata": {},
   "outputs": [
    {
     "name": "stdout",
     "output_type": "stream",
     "text": [
      "+--------------------+------+--------------------+\n",
      "|       content_clean|labels|            features|\n",
      "+--------------------+------+--------------------+\n",
      "|[apple, heinous, ...|     0|(10000,[158,614,7...|\n",
      "+--------------------+------+--------------------+\n",
      "only showing top 1 row\n",
      "\n"
     ]
    }
   ],
   "source": [
    "training_data.show(1)"
   ]
  },
  {
   "cell_type": "markdown",
   "metadata": {},
   "source": [
    "## Naive Bayes"
   ]
  },
  {
   "cell_type": "code",
   "execution_count": 35,
   "metadata": {},
   "outputs": [],
   "source": [
    "from pyspark.ml.classification import NaiveBayes\n",
    "algo = NaiveBayes(smoothing=1.0, modelType=\"multinomial\",labelCol=\"labels\", featuresCol=\"features\")\n",
    "model = algo.fit(training_data)"
   ]
  },
  {
   "cell_type": "code",
   "execution_count": 36,
   "metadata": {},
   "outputs": [
    {
     "name": "stdout",
     "output_type": "stream",
     "text": [
      "0.9342105263157895\n"
     ]
    }
   ],
   "source": [
    "from pyspark.ml.evaluation import MulticlassClassificationEvaluator\n",
    "\n",
    "predictions = model.transform(test_data)\n",
    "\n",
    "evaluator = MulticlassClassificationEvaluator(labelCol=\"labels\", predictionCol=\"prediction\",\n",
    "                                              metricName=\"accuracy\")\n",
    "\n",
    "print(evaluator.evaluate(predictions))"
   ]
  },
  {
   "cell_type": "code",
   "execution_count": null,
   "metadata": {},
   "outputs": [],
   "source": []
  }
 ],
 "metadata": {
  "kernelspec": {
   "display_name": "Python 3",
   "language": "python",
   "name": "python3"
  },
  "language_info": {
   "codemirror_mode": {
    "name": "ipython",
    "version": 3
   },
   "file_extension": ".py",
   "mimetype": "text/x-python",
   "name": "python",
   "nbconvert_exporter": "python",
   "pygments_lexer": "ipython3",
   "version": "3.6.7"
  }
 },
 "nbformat": 4,
 "nbformat_minor": 2
}
