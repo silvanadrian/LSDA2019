{
 "cells": [
  {
   "cell_type": "markdown",
   "metadata": {},
   "source": [
    "# Tree ensembles\n",
    "\n",
    "### Data imports"
   ]
  },
  {
   "cell_type": "code",
   "execution_count": 1,
   "metadata": {},
   "outputs": [],
   "source": [
    "import pandas as pd\n",
    "train_data = pd.read_csv(\"data/landsat_train_small.csv\",header=None)\n",
    "validation_data = pd.read_csv(\"data/landsat_validation.csv\",header=None)\n",
    "test_data = pd.read_csv(\"data/landsat_test.csv\",header=None)"
   ]
  },
  {
   "cell_type": "code",
   "execution_count": 2,
   "metadata": {},
   "outputs": [
    {
     "data": {
      "text/html": [
       "<div>\n",
       "<style scoped>\n",
       "    .dataframe tbody tr th:only-of-type {\n",
       "        vertical-align: middle;\n",
       "    }\n",
       "\n",
       "    .dataframe tbody tr th {\n",
       "        vertical-align: top;\n",
       "    }\n",
       "\n",
       "    .dataframe thead th {\n",
       "        text-align: right;\n",
       "    }\n",
       "</style>\n",
       "<table border=\"1\" class=\"dataframe\">\n",
       "  <thead>\n",
       "    <tr style=\"text-align: right;\">\n",
       "      <th></th>\n",
       "      <th>0</th>\n",
       "      <th>1</th>\n",
       "      <th>2</th>\n",
       "      <th>3</th>\n",
       "      <th>4</th>\n",
       "      <th>5</th>\n",
       "      <th>6</th>\n",
       "      <th>7</th>\n",
       "      <th>8</th>\n",
       "      <th>9</th>\n",
       "    </tr>\n",
       "  </thead>\n",
       "  <tbody>\n",
       "    <tr>\n",
       "      <th>0</th>\n",
       "      <td>6</td>\n",
       "      <td>2696</td>\n",
       "      <td>2416</td>\n",
       "      <td>2179</td>\n",
       "      <td>1412</td>\n",
       "      <td>3882</td>\n",
       "      <td>1988</td>\n",
       "      <td>1407</td>\n",
       "      <td>1025</td>\n",
       "      <td>4867</td>\n",
       "    </tr>\n",
       "    <tr>\n",
       "      <th>1</th>\n",
       "      <td>6</td>\n",
       "      <td>2691</td>\n",
       "      <td>2413</td>\n",
       "      <td>2177</td>\n",
       "      <td>1406</td>\n",
       "      <td>3879</td>\n",
       "      <td>1986</td>\n",
       "      <td>1408</td>\n",
       "      <td>1023</td>\n",
       "      <td>4856</td>\n",
       "    </tr>\n",
       "    <tr>\n",
       "      <th>2</th>\n",
       "      <td>6</td>\n",
       "      <td>2690</td>\n",
       "      <td>2413</td>\n",
       "      <td>2178</td>\n",
       "      <td>1404</td>\n",
       "      <td>3880</td>\n",
       "      <td>1988</td>\n",
       "      <td>1411</td>\n",
       "      <td>1023</td>\n",
       "      <td>4852</td>\n",
       "    </tr>\n",
       "    <tr>\n",
       "      <th>3</th>\n",
       "      <td>6</td>\n",
       "      <td>2691</td>\n",
       "      <td>2415</td>\n",
       "      <td>2184</td>\n",
       "      <td>1405</td>\n",
       "      <td>3878</td>\n",
       "      <td>1998</td>\n",
       "      <td>1420</td>\n",
       "      <td>1025</td>\n",
       "      <td>4851</td>\n",
       "    </tr>\n",
       "    <tr>\n",
       "      <th>4</th>\n",
       "      <td>6</td>\n",
       "      <td>2706</td>\n",
       "      <td>2428</td>\n",
       "      <td>2201</td>\n",
       "      <td>1413</td>\n",
       "      <td>3891</td>\n",
       "      <td>2021</td>\n",
       "      <td>1436</td>\n",
       "      <td>1033</td>\n",
       "      <td>4874</td>\n",
       "    </tr>\n",
       "  </tbody>\n",
       "</table>\n",
       "</div>"
      ],
      "text/plain": [
       "   0     1     2     3     4     5     6     7     8     9\n",
       "0  6  2696  2416  2179  1412  3882  1988  1407  1025  4867\n",
       "1  6  2691  2413  2177  1406  3879  1986  1408  1023  4856\n",
       "2  6  2690  2413  2178  1404  3880  1988  1411  1023  4852\n",
       "3  6  2691  2415  2184  1405  3878  1998  1420  1025  4851\n",
       "4  6  2706  2428  2201  1413  3891  2021  1436  1033  4874"
      ]
     },
     "execution_count": 2,
     "metadata": {},
     "output_type": "execute_result"
    }
   ],
   "source": [
    "train_data.head()"
   ]
  },
  {
   "cell_type": "code",
   "execution_count": 3,
   "metadata": {},
   "outputs": [
    {
     "data": {
      "text/plain": [
       "array([6, 7, 3, 4, 5, 2, 8])"
      ]
     },
     "execution_count": 3,
     "metadata": {},
     "output_type": "execute_result"
    }
   ],
   "source": [
    "# Range\n",
    "train_data[0].unique()"
   ]
  },
  {
   "cell_type": "code",
   "execution_count": 4,
   "metadata": {},
   "outputs": [
    {
     "data": {
      "text/html": [
       "<div>\n",
       "<style scoped>\n",
       "    .dataframe tbody tr th:only-of-type {\n",
       "        vertical-align: middle;\n",
       "    }\n",
       "\n",
       "    .dataframe tbody tr th {\n",
       "        vertical-align: top;\n",
       "    }\n",
       "\n",
       "    .dataframe thead th {\n",
       "        text-align: right;\n",
       "    }\n",
       "</style>\n",
       "<table border=\"1\" class=\"dataframe\">\n",
       "  <thead>\n",
       "    <tr style=\"text-align: right;\">\n",
       "      <th></th>\n",
       "      <th>0</th>\n",
       "      <th>1</th>\n",
       "      <th>2</th>\n",
       "      <th>3</th>\n",
       "      <th>4</th>\n",
       "      <th>5</th>\n",
       "      <th>6</th>\n",
       "      <th>7</th>\n",
       "      <th>8</th>\n",
       "      <th>9</th>\n",
       "    </tr>\n",
       "  </thead>\n",
       "  <tbody>\n",
       "    <tr>\n",
       "      <th>0</th>\n",
       "      <td>4</td>\n",
       "      <td>2533</td>\n",
       "      <td>2269</td>\n",
       "      <td>1904</td>\n",
       "      <td>2447</td>\n",
       "      <td>2204</td>\n",
       "      <td>2048</td>\n",
       "      <td>1063</td>\n",
       "      <td>1061</td>\n",
       "      <td>4590</td>\n",
       "    </tr>\n",
       "    <tr>\n",
       "      <th>1</th>\n",
       "      <td>4</td>\n",
       "      <td>2539</td>\n",
       "      <td>2274</td>\n",
       "      <td>1907</td>\n",
       "      <td>2452</td>\n",
       "      <td>2210</td>\n",
       "      <td>2051</td>\n",
       "      <td>1066</td>\n",
       "      <td>1065</td>\n",
       "      <td>4598</td>\n",
       "    </tr>\n",
       "    <tr>\n",
       "      <th>2</th>\n",
       "      <td>4</td>\n",
       "      <td>2540</td>\n",
       "      <td>2272</td>\n",
       "      <td>1905</td>\n",
       "      <td>2451</td>\n",
       "      <td>2210</td>\n",
       "      <td>2048</td>\n",
       "      <td>1066</td>\n",
       "      <td>1066</td>\n",
       "      <td>4593</td>\n",
       "    </tr>\n",
       "    <tr>\n",
       "      <th>3</th>\n",
       "      <td>4</td>\n",
       "      <td>2534</td>\n",
       "      <td>2269</td>\n",
       "      <td>1901</td>\n",
       "      <td>2448</td>\n",
       "      <td>2207</td>\n",
       "      <td>2042</td>\n",
       "      <td>1064</td>\n",
       "      <td>1064</td>\n",
       "      <td>4585</td>\n",
       "    </tr>\n",
       "    <tr>\n",
       "      <th>4</th>\n",
       "      <td>4</td>\n",
       "      <td>2533</td>\n",
       "      <td>2270</td>\n",
       "      <td>1902</td>\n",
       "      <td>2450</td>\n",
       "      <td>2208</td>\n",
       "      <td>2039</td>\n",
       "      <td>1063</td>\n",
       "      <td>1065</td>\n",
       "      <td>4585</td>\n",
       "    </tr>\n",
       "  </tbody>\n",
       "</table>\n",
       "</div>"
      ],
      "text/plain": [
       "   0     1     2     3     4     5     6     7     8     9\n",
       "0  4  2533  2269  1904  2447  2204  2048  1063  1061  4590\n",
       "1  4  2539  2274  1907  2452  2210  2051  1066  1065  4598\n",
       "2  4  2540  2272  1905  2451  2210  2048  1066  1066  4593\n",
       "3  4  2534  2269  1901  2448  2207  2042  1064  1064  4585\n",
       "4  4  2533  2270  1902  2450  2208  2039  1063  1065  4585"
      ]
     },
     "execution_count": 4,
     "metadata": {},
     "output_type": "execute_result"
    }
   ],
   "source": [
    "validation_data.head()"
   ]
  },
  {
   "cell_type": "code",
   "execution_count": 5,
   "metadata": {},
   "outputs": [
    {
     "data": {
      "text/html": [
       "<div>\n",
       "<style scoped>\n",
       "    .dataframe tbody tr th:only-of-type {\n",
       "        vertical-align: middle;\n",
       "    }\n",
       "\n",
       "    .dataframe tbody tr th {\n",
       "        vertical-align: top;\n",
       "    }\n",
       "\n",
       "    .dataframe thead th {\n",
       "        text-align: right;\n",
       "    }\n",
       "</style>\n",
       "<table border=\"1\" class=\"dataframe\">\n",
       "  <thead>\n",
       "    <tr style=\"text-align: right;\">\n",
       "      <th></th>\n",
       "      <th>0</th>\n",
       "      <th>1</th>\n",
       "      <th>2</th>\n",
       "      <th>3</th>\n",
       "      <th>4</th>\n",
       "      <th>5</th>\n",
       "      <th>6</th>\n",
       "      <th>7</th>\n",
       "      <th>8</th>\n",
       "    </tr>\n",
       "  </thead>\n",
       "  <tbody>\n",
       "    <tr>\n",
       "      <th>0</th>\n",
       "      <td>2552</td>\n",
       "      <td>2284</td>\n",
       "      <td>1916</td>\n",
       "      <td>2459</td>\n",
       "      <td>2233</td>\n",
       "      <td>2050</td>\n",
       "      <td>1062</td>\n",
       "      <td>1045</td>\n",
       "      <td>4651</td>\n",
       "    </tr>\n",
       "    <tr>\n",
       "      <th>1</th>\n",
       "      <td>2555</td>\n",
       "      <td>2287</td>\n",
       "      <td>1922</td>\n",
       "      <td>2464</td>\n",
       "      <td>2236</td>\n",
       "      <td>2055</td>\n",
       "      <td>1064</td>\n",
       "      <td>1045</td>\n",
       "      <td>4662</td>\n",
       "    </tr>\n",
       "    <tr>\n",
       "      <th>2</th>\n",
       "      <td>2548</td>\n",
       "      <td>2281</td>\n",
       "      <td>1920</td>\n",
       "      <td>2458</td>\n",
       "      <td>2230</td>\n",
       "      <td>2052</td>\n",
       "      <td>1061</td>\n",
       "      <td>1041</td>\n",
       "      <td>4654</td>\n",
       "    </tr>\n",
       "    <tr>\n",
       "      <th>3</th>\n",
       "      <td>2549</td>\n",
       "      <td>2280</td>\n",
       "      <td>1919</td>\n",
       "      <td>2457</td>\n",
       "      <td>2229</td>\n",
       "      <td>2052</td>\n",
       "      <td>1059</td>\n",
       "      <td>1041</td>\n",
       "      <td>4654</td>\n",
       "    </tr>\n",
       "    <tr>\n",
       "      <th>4</th>\n",
       "      <td>2554</td>\n",
       "      <td>2282</td>\n",
       "      <td>1920</td>\n",
       "      <td>2460</td>\n",
       "      <td>2232</td>\n",
       "      <td>2054</td>\n",
       "      <td>1059</td>\n",
       "      <td>1043</td>\n",
       "      <td>4660</td>\n",
       "    </tr>\n",
       "  </tbody>\n",
       "</table>\n",
       "</div>"
      ],
      "text/plain": [
       "      0     1     2     3     4     5     6     7     8\n",
       "0  2552  2284  1916  2459  2233  2050  1062  1045  4651\n",
       "1  2555  2287  1922  2464  2236  2055  1064  1045  4662\n",
       "2  2548  2281  1920  2458  2230  2052  1061  1041  4654\n",
       "3  2549  2280  1919  2457  2229  2052  1059  1041  4654\n",
       "4  2554  2282  1920  2460  2232  2054  1059  1043  4660"
      ]
     },
     "execution_count": 5,
     "metadata": {},
     "output_type": "execute_result"
    }
   ],
   "source": [
    "test_data.head()"
   ]
  },
  {
   "cell_type": "code",
   "execution_count": 6,
   "metadata": {},
   "outputs": [],
   "source": [
    "x_train = train_data[[1,2,3,4,5,6,7,8,9]]\n",
    "y_train = train_data[0]"
   ]
  },
  {
   "cell_type": "code",
   "execution_count": 7,
   "metadata": {},
   "outputs": [],
   "source": [
    "x_valid = validation_data[[1,2,3,4,5,6,7,8,9]]\n",
    "y_valid = validation_data[0]"
   ]
  },
  {
   "cell_type": "code",
   "execution_count": 8,
   "metadata": {},
   "outputs": [],
   "source": [
    "del train_data\n",
    "del validation_data"
   ]
  },
  {
   "cell_type": "markdown",
   "metadata": {},
   "source": [
    "## Random Forrest"
   ]
  },
  {
   "cell_type": "code",
   "execution_count": null,
   "metadata": {},
   "outputs": [],
   "source": [
    "from sklearn.metrics import accuracy_score\n",
    "from sklearn.ensemble import RandomForestClassifier\n",
    "\n",
    "rf = RandomForestClassifier(n_estimators=10, max_features=None)\n",
    "rf.fit(x_train,y_train)"
   ]
  },
  {
   "cell_type": "code",
   "execution_count": null,
   "metadata": {},
   "outputs": [],
   "source": [
    "del x_train, y_train"
   ]
  },
  {
   "cell_type": "code",
   "execution_count": null,
   "metadata": {},
   "outputs": [],
   "source": [
    "# predict on validation to test accuracy\n",
    "y_predict = rf.predict(x_valid)"
   ]
  },
  {
   "cell_type": "code",
   "execution_count": null,
   "metadata": {},
   "outputs": [],
   "source": [
    "del x_valid"
   ]
  },
  {
   "cell_type": "code",
   "execution_count": null,
   "metadata": {},
   "outputs": [],
   "source": [
    "# Accuracy score\n",
    "accuracy_score(y_predict,y_valid)"
   ]
  },
  {
   "cell_type": "code",
   "execution_count": null,
   "metadata": {},
   "outputs": [],
   "source": [
    "del y_predict,y_valid"
   ]
  },
  {
   "cell_type": "code",
   "execution_count": null,
   "metadata": {},
   "outputs": [],
   "source": [
    "test_predict = rf.predict(test_data)"
   ]
  },
  {
   "cell_type": "code",
   "execution_count": null,
   "metadata": {},
   "outputs": [],
   "source": [
    "import numpy as np\n",
    "from matplotlib import pyplot as plt\n",
    "\n",
    "def plot_image(preds):\n",
    "    alpha = range(2,8,1)\n",
    "    fig = plt.figure(figsize=(10, 10))\n",
    "    ax = fig.add_subplot(111)\n",
    "    cax = ax.matshow(preds.reshape(3000,3000), interpolation='nearest')\n",
    "    fig.colorbar(cax)\n",
    "    fig.savefig('../img/image.png')\n",
    "    plt.show()"
   ]
  },
  {
   "cell_type": "code",
   "execution_count": null,
   "metadata": {},
   "outputs": [],
   "source": [
    "plot_image(test_predict)"
   ]
  },
  {
   "cell_type": "markdown",
   "metadata": {},
   "source": [
    "# Random Forests with Restricted Trees"
   ]
  },
  {
   "cell_type": "code",
   "execution_count": null,
   "metadata": {},
   "outputs": [],
   "source": [
    "x_train = train_data[[1,2,3,4,5,6,7,8,9]]\n",
    "y_train = train_data[0]"
   ]
  },
  {
   "cell_type": "code",
   "execution_count": null,
   "metadata": {},
   "outputs": [],
   "source": [
    "x_valid = validation_data[[1,2,3,4,5,6,7,8,9]]\n",
    "y_valid = validation_data[0]"
   ]
  },
  {
   "cell_type": "code",
   "execution_count": null,
   "metadata": {},
   "outputs": [],
   "source": [
    "from sklearn.ensemble import BaggingClassifier\n",
    "from sklearn import tree\n",
    "clf = BaggingClassifier(base_estimator=tree.DecisionTreeClassifier(), \n",
    "                        n_estimators=10, \n",
    "                        max_features=2,\n",
    "                        bootstrap_features=False # no replacment\n",
    "                       )\n",
    "clf.fit(x_train,y_train)"
   ]
  },
  {
   "cell_type": "code",
   "execution_count": null,
   "metadata": {},
   "outputs": [],
   "source": [
    "y_preds = clf.predict(x_valid)"
   ]
  },
  {
   "cell_type": "code",
   "execution_count": null,
   "metadata": {},
   "outputs": [],
   "source": [
    "accuracy_score(y_preds,y_valid)"
   ]
  },
  {
   "cell_type": "code",
   "execution_count": null,
   "metadata": {},
   "outputs": [],
   "source": []
  }
 ],
 "metadata": {
  "kernelspec": {
   "display_name": "Python 3",
   "language": "python",
   "name": "python3"
  },
  "language_info": {
   "codemirror_mode": {
    "name": "ipython",
    "version": 3
   },
   "file_extension": ".py",
   "mimetype": "text/x-python",
   "name": "python",
   "nbconvert_exporter": "python",
   "pygments_lexer": "ipython3",
   "version": "3.6.7"
  }
 },
 "nbformat": 4,
 "nbformat_minor": 2
}
