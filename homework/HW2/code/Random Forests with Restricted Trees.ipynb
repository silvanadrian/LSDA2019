{
 "cells": [
  {
   "cell_type": "markdown",
   "metadata": {},
   "source": [
    "# Random Forests with Restricted Trees"
   ]
  },
  {
   "cell_type": "code",
   "execution_count": 1,
   "metadata": {},
   "outputs": [],
   "source": [
    "import pandas as pd\n",
    "train_data = pd.read_csv(\"data/landsat_train_small.csv\",header=None)"
   ]
  },
  {
   "cell_type": "code",
   "execution_count": 2,
   "metadata": {},
   "outputs": [
    {
     "data": {
      "text/html": [
       "<div>\n",
       "<style scoped>\n",
       "    .dataframe tbody tr th:only-of-type {\n",
       "        vertical-align: middle;\n",
       "    }\n",
       "\n",
       "    .dataframe tbody tr th {\n",
       "        vertical-align: top;\n",
       "    }\n",
       "\n",
       "    .dataframe thead th {\n",
       "        text-align: right;\n",
       "    }\n",
       "</style>\n",
       "<table border=\"1\" class=\"dataframe\">\n",
       "  <thead>\n",
       "    <tr style=\"text-align: right;\">\n",
       "      <th></th>\n",
       "      <th>0</th>\n",
       "      <th>1</th>\n",
       "      <th>2</th>\n",
       "      <th>3</th>\n",
       "      <th>4</th>\n",
       "      <th>5</th>\n",
       "      <th>6</th>\n",
       "      <th>7</th>\n",
       "      <th>8</th>\n",
       "      <th>9</th>\n",
       "    </tr>\n",
       "  </thead>\n",
       "  <tbody>\n",
       "    <tr>\n",
       "      <th>0</th>\n",
       "      <td>6</td>\n",
       "      <td>2696</td>\n",
       "      <td>2416</td>\n",
       "      <td>2179</td>\n",
       "      <td>1412</td>\n",
       "      <td>3882</td>\n",
       "      <td>1988</td>\n",
       "      <td>1407</td>\n",
       "      <td>1025</td>\n",
       "      <td>4867</td>\n",
       "    </tr>\n",
       "    <tr>\n",
       "      <th>1</th>\n",
       "      <td>6</td>\n",
       "      <td>2691</td>\n",
       "      <td>2413</td>\n",
       "      <td>2177</td>\n",
       "      <td>1406</td>\n",
       "      <td>3879</td>\n",
       "      <td>1986</td>\n",
       "      <td>1408</td>\n",
       "      <td>1023</td>\n",
       "      <td>4856</td>\n",
       "    </tr>\n",
       "    <tr>\n",
       "      <th>2</th>\n",
       "      <td>6</td>\n",
       "      <td>2690</td>\n",
       "      <td>2413</td>\n",
       "      <td>2178</td>\n",
       "      <td>1404</td>\n",
       "      <td>3880</td>\n",
       "      <td>1988</td>\n",
       "      <td>1411</td>\n",
       "      <td>1023</td>\n",
       "      <td>4852</td>\n",
       "    </tr>\n",
       "    <tr>\n",
       "      <th>3</th>\n",
       "      <td>6</td>\n",
       "      <td>2691</td>\n",
       "      <td>2415</td>\n",
       "      <td>2184</td>\n",
       "      <td>1405</td>\n",
       "      <td>3878</td>\n",
       "      <td>1998</td>\n",
       "      <td>1420</td>\n",
       "      <td>1025</td>\n",
       "      <td>4851</td>\n",
       "    </tr>\n",
       "    <tr>\n",
       "      <th>4</th>\n",
       "      <td>6</td>\n",
       "      <td>2706</td>\n",
       "      <td>2428</td>\n",
       "      <td>2201</td>\n",
       "      <td>1413</td>\n",
       "      <td>3891</td>\n",
       "      <td>2021</td>\n",
       "      <td>1436</td>\n",
       "      <td>1033</td>\n",
       "      <td>4874</td>\n",
       "    </tr>\n",
       "  </tbody>\n",
       "</table>\n",
       "</div>"
      ],
      "text/plain": [
       "   0     1     2     3     4     5     6     7     8     9\n",
       "0  6  2696  2416  2179  1412  3882  1988  1407  1025  4867\n",
       "1  6  2691  2413  2177  1406  3879  1986  1408  1023  4856\n",
       "2  6  2690  2413  2178  1404  3880  1988  1411  1023  4852\n",
       "3  6  2691  2415  2184  1405  3878  1998  1420  1025  4851\n",
       "4  6  2706  2428  2201  1413  3891  2021  1436  1033  4874"
      ]
     },
     "execution_count": 2,
     "metadata": {},
     "output_type": "execute_result"
    }
   ],
   "source": [
    "train_data.head()"
   ]
  },
  {
   "cell_type": "code",
   "execution_count": 3,
   "metadata": {},
   "outputs": [
    {
     "data": {
      "text/plain": [
       "array([6, 7, 3, 4, 5, 2, 8])"
      ]
     },
     "execution_count": 3,
     "metadata": {},
     "output_type": "execute_result"
    }
   ],
   "source": [
    "# Range\n",
    "train_data[0].unique()"
   ]
  },
  {
   "cell_type": "code",
   "execution_count": 4,
   "metadata": {},
   "outputs": [
    {
     "data": {
      "text/plain": [
       "BaggingClassifier(base_estimator=DecisionTreeClassifier(class_weight=None, criterion='gini', max_depth=None,\n",
       "            max_features=None, max_leaf_nodes=None,\n",
       "            min_impurity_decrease=0.0, min_impurity_split=None,\n",
       "            min_samples_leaf=1, min_samples_split=2,\n",
       "            min_weight_fraction_leaf=0.0, presort=False, random_state=None,\n",
       "            splitter='best'),\n",
       "         bootstrap=True, bootstrap_features=False, max_features=2,\n",
       "         max_samples=1.0, n_estimators=10, n_jobs=None, oob_score=False,\n",
       "         random_state=None, verbose=0, warm_start=False)"
      ]
     },
     "execution_count": 4,
     "metadata": {},
     "output_type": "execute_result"
    }
   ],
   "source": [
    "from sklearn.ensemble import BaggingClassifier\n",
    "from sklearn import tree\n",
    "# Not exactly how it was supposed to be according to the exercise\n",
    "clf = BaggingClassifier(base_estimator=tree.DecisionTreeClassifier(), \n",
    "                        n_estimators=10, \n",
    "                        max_features=2,\n",
    "                        bootstrap_features=False # no replacment\n",
    "                       )\n",
    "clf.fit(train_data[[1,2,3,4,5,6,7,8,9]],train_data[0])"
   ]
  },
  {
   "cell_type": "code",
   "execution_count": 5,
   "metadata": {},
   "outputs": [],
   "source": [
    "del train_data"
   ]
  },
  {
   "cell_type": "code",
   "execution_count": 6,
   "metadata": {},
   "outputs": [],
   "source": [
    "validation_data = pd.read_csv(\"data/landsat_validation.csv\",header=None)"
   ]
  },
  {
   "cell_type": "code",
   "execution_count": 7,
   "metadata": {},
   "outputs": [
    {
     "data": {
      "text/html": [
       "<div>\n",
       "<style scoped>\n",
       "    .dataframe tbody tr th:only-of-type {\n",
       "        vertical-align: middle;\n",
       "    }\n",
       "\n",
       "    .dataframe tbody tr th {\n",
       "        vertical-align: top;\n",
       "    }\n",
       "\n",
       "    .dataframe thead th {\n",
       "        text-align: right;\n",
       "    }\n",
       "</style>\n",
       "<table border=\"1\" class=\"dataframe\">\n",
       "  <thead>\n",
       "    <tr style=\"text-align: right;\">\n",
       "      <th></th>\n",
       "      <th>0</th>\n",
       "      <th>1</th>\n",
       "      <th>2</th>\n",
       "      <th>3</th>\n",
       "      <th>4</th>\n",
       "      <th>5</th>\n",
       "      <th>6</th>\n",
       "      <th>7</th>\n",
       "      <th>8</th>\n",
       "      <th>9</th>\n",
       "    </tr>\n",
       "  </thead>\n",
       "  <tbody>\n",
       "    <tr>\n",
       "      <th>0</th>\n",
       "      <td>4</td>\n",
       "      <td>2533</td>\n",
       "      <td>2269</td>\n",
       "      <td>1904</td>\n",
       "      <td>2447</td>\n",
       "      <td>2204</td>\n",
       "      <td>2048</td>\n",
       "      <td>1063</td>\n",
       "      <td>1061</td>\n",
       "      <td>4590</td>\n",
       "    </tr>\n",
       "    <tr>\n",
       "      <th>1</th>\n",
       "      <td>4</td>\n",
       "      <td>2539</td>\n",
       "      <td>2274</td>\n",
       "      <td>1907</td>\n",
       "      <td>2452</td>\n",
       "      <td>2210</td>\n",
       "      <td>2051</td>\n",
       "      <td>1066</td>\n",
       "      <td>1065</td>\n",
       "      <td>4598</td>\n",
       "    </tr>\n",
       "    <tr>\n",
       "      <th>2</th>\n",
       "      <td>4</td>\n",
       "      <td>2540</td>\n",
       "      <td>2272</td>\n",
       "      <td>1905</td>\n",
       "      <td>2451</td>\n",
       "      <td>2210</td>\n",
       "      <td>2048</td>\n",
       "      <td>1066</td>\n",
       "      <td>1066</td>\n",
       "      <td>4593</td>\n",
       "    </tr>\n",
       "    <tr>\n",
       "      <th>3</th>\n",
       "      <td>4</td>\n",
       "      <td>2534</td>\n",
       "      <td>2269</td>\n",
       "      <td>1901</td>\n",
       "      <td>2448</td>\n",
       "      <td>2207</td>\n",
       "      <td>2042</td>\n",
       "      <td>1064</td>\n",
       "      <td>1064</td>\n",
       "      <td>4585</td>\n",
       "    </tr>\n",
       "    <tr>\n",
       "      <th>4</th>\n",
       "      <td>4</td>\n",
       "      <td>2533</td>\n",
       "      <td>2270</td>\n",
       "      <td>1902</td>\n",
       "      <td>2450</td>\n",
       "      <td>2208</td>\n",
       "      <td>2039</td>\n",
       "      <td>1063</td>\n",
       "      <td>1065</td>\n",
       "      <td>4585</td>\n",
       "    </tr>\n",
       "  </tbody>\n",
       "</table>\n",
       "</div>"
      ],
      "text/plain": [
       "   0     1     2     3     4     5     6     7     8     9\n",
       "0  4  2533  2269  1904  2447  2204  2048  1063  1061  4590\n",
       "1  4  2539  2274  1907  2452  2210  2051  1066  1065  4598\n",
       "2  4  2540  2272  1905  2451  2210  2048  1066  1066  4593\n",
       "3  4  2534  2269  1901  2448  2207  2042  1064  1064  4585\n",
       "4  4  2533  2270  1902  2450  2208  2039  1063  1065  4585"
      ]
     },
     "execution_count": 7,
     "metadata": {},
     "output_type": "execute_result"
    }
   ],
   "source": [
    "validation_data.head()"
   ]
  },
  {
   "cell_type": "code",
   "execution_count": 8,
   "metadata": {},
   "outputs": [],
   "source": [
    "y_preds = clf.predict(validation_data[[1,2,3,4,5,6,7,8,9]])"
   ]
  },
  {
   "cell_type": "code",
   "execution_count": 9,
   "metadata": {},
   "outputs": [
    {
     "data": {
      "text/plain": [
       "0.6572406439855102"
      ]
     },
     "execution_count": 9,
     "metadata": {},
     "output_type": "execute_result"
    }
   ],
   "source": [
    "from sklearn.metrics import accuracy_score\n",
    "accuracy_score(validation_data[0],y_preds)"
   ]
  },
  {
   "cell_type": "code",
   "execution_count": null,
   "metadata": {},
   "outputs": [],
   "source": []
  }
 ],
 "metadata": {
  "kernelspec": {
   "display_name": "Python 3",
   "language": "python",
   "name": "python3"
  },
  "language_info": {
   "codemirror_mode": {
    "name": "ipython",
    "version": 3
   },
   "file_extension": ".py",
   "mimetype": "text/x-python",
   "name": "python",
   "nbconvert_exporter": "python",
   "pygments_lexer": "ipython3",
   "version": "3.7.2"
  }
 },
 "nbformat": 4,
 "nbformat_minor": 2
}
