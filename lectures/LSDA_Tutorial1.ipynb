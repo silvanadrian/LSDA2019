{
  "nbformat": 4,
  "nbformat_minor": 0,
  "metadata": {
    "colab": {
      "name": "LSDA_Tutorial1",
      "version": "0.3.2",
      "provenance": [],
      "collapsed_sections": [],
      "toc_visible": true
    },
    "kernelspec": {
      "name": "python3",
      "display_name": "Python 3"
    },
    "accelerator": "GPU"
  },
  "cells": [
    {
      "metadata": {
        "id": "_V6Uux5zi7wD",
        "colab_type": "text"
      },
      "cell_type": "markdown",
      "source": [
        "## Mount Google Drive under /content"
      ]
    },
    {
      "metadata": {
        "id": "XZIWlh2nzLEO",
        "colab_type": "code",
        "outputId": "c2782e76-df3f-4b8f-d12d-499b42d277fd",
        "colab": {
          "base_uri": "https://localhost:8080/",
          "height": 122
        }
      },
      "cell_type": "code",
      "source": [
        "from google.colab import drive\n",
        "drive.mount('/content/gdrive')"
      ],
      "execution_count": 1,
      "outputs": [
        {
          "output_type": "stream",
          "text": [
            "Go to this URL in a browser: https://accounts.google.com/o/oauth2/auth?client_id=947318989803-6bn6qk8qdgf4n4g3pfee6491hc0brc4i.apps.googleusercontent.com&redirect_uri=urn%3Aietf%3Awg%3Aoauth%3A2.0%3Aoob&scope=email%20https%3A%2F%2Fwww.googleapis.com%2Fauth%2Fdocs.test%20https%3A%2F%2Fwww.googleapis.com%2Fauth%2Fdrive%20https%3A%2F%2Fwww.googleapis.com%2Fauth%2Fdrive.photos.readonly%20https%3A%2F%2Fwww.googleapis.com%2Fauth%2Fpeopleapi.readonly&response_type=code\n",
            "\n",
            "Enter your authorization code:\n",
            "··········\n",
            "Mounted at /content/gdrive\n"
          ],
          "name": "stdout"
        }
      ]
    },
    {
      "metadata": {
        "id": "atMOnIbb1H8Z",
        "colab_type": "text"
      },
      "cell_type": "markdown",
      "source": [
        "### Make a folder for your competition work"
      ]
    },
    {
      "metadata": {
        "id": "VbPLm_Mk1GL4",
        "colab_type": "code",
        "colab": {}
      },
      "cell_type": "code",
      "source": [
        "!mkdir /content/gdrive/My\\ Drive/lsda_competition"
      ],
      "execution_count": 0,
      "outputs": []
    },
    {
      "metadata": {
        "id": "SjluMkG2jHI1",
        "colab_type": "text"
      },
      "cell_type": "markdown",
      "source": [
        "###Write to gdrive example"
      ]
    },
    {
      "metadata": {
        "id": "H92IKmeYzLDn",
        "colab_type": "code",
        "outputId": "a63262a5-f29d-4840-fd8a-56413b35c616",
        "colab": {
          "base_uri": "https://localhost:8080/",
          "height": 34
        }
      },
      "cell_type": "code",
      "source": [
        "with open('/content/gdrive/My Drive/lsda_competition/foo.txt', 'w') as f:\n",
        "  f.write('Hello Google Drive!')\n",
        "!cat '/content/gdrive/My Drive/lsda_competition/foo.txt'"
      ],
      "execution_count": 4,
      "outputs": [
        {
          "output_type": "stream",
          "text": [
            "Hello Google Drive!"
          ],
          "name": "stdout"
        }
      ]
    },
    {
      "metadata": {
        "id": "xQhcg26cjQAd",
        "colab_type": "text"
      },
      "cell_type": "markdown",
      "source": [
        "###Read from gdrive example"
      ]
    },
    {
      "metadata": {
        "id": "m91v-yff185a",
        "colab_type": "code",
        "outputId": "c402da74-34d3-4ab4-cd9a-f71d36855ace",
        "colab": {
          "base_uri": "https://localhost:8080/",
          "height": 34
        }
      },
      "cell_type": "code",
      "source": [
        "with open('/content/gdrive/My Drive/lsda_competition/foo.txt', 'r') as f:\n",
        "  line = f.read()\n",
        "  print(line)"
      ],
      "execution_count": 5,
      "outputs": [
        {
          "output_type": "stream",
          "text": [
            "Hello Google Drive!\n"
          ],
          "name": "stdout"
        }
      ]
    },
    {
      "metadata": {
        "id": "dCZkvKAFzxln",
        "colab_type": "text"
      },
      "cell_type": "markdown",
      "source": [
        "### Manipulating files to and from Goole Drive"
      ]
    },
    {
      "metadata": {
        "id": "_CalDOs40Cm3",
        "colab_type": "code",
        "colab": {}
      },
      "cell_type": "code",
      "source": [
        "!cp /content/gdrive/My\\ Drive/lsda_competition/foo.txt /content/"
      ],
      "execution_count": 0,
      "outputs": []
    },
    {
      "metadata": {
        "id": "TeOm0xIW2Twp",
        "colab_type": "code",
        "colab": {}
      },
      "cell_type": "code",
      "source": [
        "!cp /content/foo.txt /content/gdrive/My\\ Drive/lsda_competition/foo2.txt"
      ],
      "execution_count": 0,
      "outputs": []
    },
    {
      "metadata": {
        "id": "jdeOFMMv2TjB",
        "colab_type": "code",
        "colab": {}
      },
      "cell_type": "code",
      "source": [
        "!rm /content/foo.txt /content/gdrive/My\\ Drive/lsda_competition/foo2.txt /content/gdrive/My\\ Drive/lsda_competition/foo.txt"
      ],
      "execution_count": 0,
      "outputs": []
    },
    {
      "metadata": {
        "id": "ORUgAJsFjWCD",
        "colab_type": "text"
      },
      "cell_type": "markdown",
      "source": [
        "# Kaggle API package"
      ]
    },
    {
      "metadata": {
        "id": "s8oezGBN3HxV",
        "colab_type": "code",
        "outputId": "fdcbe3c9-bc96-426a-bf3d-75a828e107a2",
        "colab": {
          "base_uri": "https://localhost:8080/",
          "height": 204
        }
      },
      "cell_type": "code",
      "source": [
        "!pip install kaggle"
      ],
      "execution_count": 9,
      "outputs": [
        {
          "output_type": "stream",
          "text": [
            "Requirement already satisfied: kaggle in /usr/local/lib/python3.6/dist-packages (1.5.3)\n",
            "Requirement already satisfied: urllib3<1.25,>=1.21.1 in /usr/local/lib/python3.6/dist-packages (from kaggle) (1.24.2)\n",
            "Requirement already satisfied: six>=1.10 in /usr/local/lib/python3.6/dist-packages (from kaggle) (1.12.0)\n",
            "Requirement already satisfied: certifi in /usr/local/lib/python3.6/dist-packages (from kaggle) (2019.3.9)\n",
            "Requirement already satisfied: python-dateutil in /usr/local/lib/python3.6/dist-packages (from kaggle) (2.5.3)\n",
            "Requirement already satisfied: requests in /usr/local/lib/python3.6/dist-packages (from kaggle) (2.21.0)\n",
            "Requirement already satisfied: tqdm in /usr/local/lib/python3.6/dist-packages (from kaggle) (4.28.1)\n",
            "Requirement already satisfied: python-slugify in /usr/local/lib/python3.6/dist-packages (from kaggle) (3.0.2)\n",
            "Requirement already satisfied: chardet<3.1.0,>=3.0.2 in /usr/local/lib/python3.6/dist-packages (from requests->kaggle) (3.0.4)\n",
            "Requirement already satisfied: idna<2.9,>=2.5 in /usr/local/lib/python3.6/dist-packages (from requests->kaggle) (2.8)\n",
            "Requirement already satisfied: text-unidecode==1.2 in /usr/local/lib/python3.6/dist-packages (from python-slugify->kaggle) (1.2)\n"
          ],
          "name": "stdout"
        }
      ]
    },
    {
      "metadata": {
        "id": "fpPeUQC-3KNO",
        "colab_type": "code",
        "colab": {}
      },
      "cell_type": "code",
      "source": [
        "!mkdir .kaggle"
      ],
      "execution_count": 0,
      "outputs": []
    },
    {
      "metadata": {
        "id": "52RyvYUp2wcE",
        "colab_type": "text"
      },
      "cell_type": "markdown",
      "source": [
        "### see this tutorial for how to obtain your token: https://towardsdatascience.com/setting-up-kaggle-in-google-colab-ebb281b61463"
      ]
    },
    {
      "metadata": {
        "id": "byWCddXZ6jKP",
        "colab_type": "code",
        "colab": {}
      },
      "cell_type": "code",
      "source": [
        "import json\n",
        "token = {\"username\":\"...\",\"key\":\"...\"}\n",
        "with open('/content/.kaggle/kaggle.json', 'w') as file:\n",
        "    json.dump(token, file)"
      ],
      "execution_count": 0,
      "outputs": []
    },
    {
      "metadata": {
        "id": "6hzsncxx6vCb",
        "colab_type": "code",
        "colab": {}
      },
      "cell_type": "code",
      "source": [
        "!cat .kaggle/kaggle.json"
      ],
      "execution_count": 0,
      "outputs": []
    },
    {
      "metadata": {
        "id": "ltpItSk6phlZ",
        "colab_type": "code",
        "colab": {}
      },
      "cell_type": "code",
      "source": [
        "!mkdir ~/.kaggle"
      ],
      "execution_count": 0,
      "outputs": []
    },
    {
      "metadata": {
        "id": "Quk9Vtv765MU",
        "colab_type": "code",
        "colab": {}
      },
      "cell_type": "code",
      "source": [
        "!cp /content/.kaggle/kaggle.json ~/.kaggle/kaggle.json"
      ],
      "execution_count": 0,
      "outputs": []
    },
    {
      "metadata": {
        "id": "8M7wsldz7BxS",
        "colab_type": "code",
        "outputId": "a8fdc6f7-7771-4d34-a49e-bd81d434ee24",
        "colab": {
          "base_uri": "https://localhost:8080/",
          "height": 289
        }
      },
      "cell_type": "code",
      "source": [
        "!kaggle competitions download -c bigdata2019-flare-prediction -p /content"
      ],
      "execution_count": 15,
      "outputs": [
        {
          "output_type": "stream",
          "text": [
            "Warning: Your Kaggle API key is readable by other users on this system! To fix this, you can run 'chmod 600 /root/.kaggle/kaggle.json'\n",
            "Downloading fold1Training.json.zip to /content\n",
            " 99% 1.18G/1.19G [00:23<00:00, 76.1MB/s]\n",
            "100% 1.19G/1.19G [00:23<00:00, 54.1MB/s]\n",
            "Downloading fold2Training.json.zip to /content\n",
            "100% 1.40G/1.41G [00:27<00:00, 51.6MB/s]\n",
            "100% 1.41G/1.41G [00:27<00:00, 55.7MB/s]\n",
            "Downloading fold3Training.json.zip to /content\n",
            " 99% 425M/428M [00:06<00:00, 62.7MB/s]\n",
            "100% 428M/428M [00:06<00:00, 69.7MB/s]\n",
            "Downloading testSet.json.zip to /content\n",
            "100% 2.66G/2.67G [01:03<00:00, 57.2MB/s]\n",
            "100% 2.67G/2.67G [01:03<00:00, 45.1MB/s]\n",
            "Downloading sampleSubmission.csv.zip to /content\n",
            "  0% 0.00/400k [00:00<?, ?B/s]\n",
            "100% 400k/400k [00:00<00:00, 166MB/s]\n"
          ],
          "name": "stdout"
        }
      ]
    },
    {
      "metadata": {
        "id": "7dkQxl-r9sFp",
        "colab_type": "code",
        "outputId": "fa8b3769-dfd4-4738-b1a3-77cd6526994b",
        "colab": {
          "base_uri": "https://localhost:8080/",
          "height": 289
        }
      },
      "cell_type": "code",
      "source": [
        "!unzip \\*.zip"
      ],
      "execution_count": 16,
      "outputs": [
        {
          "output_type": "stream",
          "text": [
            "Archive:  fold2Training.json.zip\n",
            "  inflating: fold2Training.json      \n",
            "\n",
            "Archive:  fold1Training.json.zip\n",
            "  inflating: fold1Training.json      \n",
            "\n",
            "Archive:  sampleSubmission.csv.zip\n",
            "  inflating: sampleSubmission.csv    \n",
            "\n",
            "Archive:  testSet.json.zip\n",
            "  inflating: testSet.json            \n",
            "\n",
            "Archive:  fold3Training.json.zip\n",
            "  inflating: fold3Training.json      \n",
            "\n",
            "5 archives were successfully processed.\n"
          ],
          "name": "stdout"
        }
      ]
    },
    {
      "metadata": {
        "id": "gFUitPEr90J-",
        "colab_type": "code",
        "colab": {}
      },
      "cell_type": "code",
      "source": [
        "!rm *.zip"
      ],
      "execution_count": 0,
      "outputs": []
    },
    {
      "metadata": {
        "id": "vpE-m9QU_RSy",
        "colab_type": "code",
        "outputId": "c9764a9c-8edb-43cf-889c-f6f51a6e1b74",
        "colab": {
          "base_uri": "https://localhost:8080/",
          "height": 85
        }
      },
      "cell_type": "code",
      "source": [
        "!ls -sh"
      ],
      "execution_count": 18,
      "outputs": [
        {
          "output_type": "stream",
          "text": [
            "total 14G\n",
            " 2.9G fold1Training.json   4.0K gdrive\t\t       6.4G testSet.json\n",
            " 3.4G fold2Training.json   4.0K sample_data\n",
            "1013M fold3Training.json   1.4M sampleSubmission.csv\n"
          ],
          "name": "stdout"
        }
      ]
    }
  ]
}