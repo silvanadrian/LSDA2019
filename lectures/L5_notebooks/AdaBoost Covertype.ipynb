{
 "cells": [
  {
   "cell_type": "code",
   "execution_count": null,
   "metadata": {},
   "outputs": [],
   "source": [
    "from sklearn.datasets import fetch_covtype\n",
    "from sklearn.model_selection import train_test_split"
   ]
  },
  {
   "cell_type": "code",
   "execution_count": null,
   "metadata": {},
   "outputs": [],
   "source": [
    "covtype = fetch_covtype()\n",
    "\n",
    "X = covtype.data\n",
    "y = covtype.target\n",
    "X_train, X_test, y_train, y_test = train_test_split(X, y, test_size=0.6, random_state=1)"
   ]
  },
  {
   "cell_type": "code",
   "execution_count": null,
   "metadata": {},
   "outputs": [],
   "source": [
    "from sklearn.metrics import accuracy_score\n",
    "\n",
    "# train extra trees classifier with 10 estimators\n",
    "from sklearn.ensemble import ExtraTreesClassifier\n",
    "et = # TODO\n",
    "et.fit(X_train, y_train)\n",
    "et_preds = et.predict(X_test)\n",
    "et_acc = accuracy_score(y_test, et_preds)\n",
    "print(\"Final test accuracy for ExtraTreesClassifier: {}\".format(et_acc))"
   ]
  },
  {
   "cell_type": "code",
   "execution_count": null,
   "metadata": {},
   "outputs": [],
   "source": [
    "from sklearn.tree import DecisionTreeClassifier\n",
    "from sklearn.ensemble import AdaBoostClassifier\n",
    "\n",
    "# train AdaBoost with Decision Trees as base classifiers\n",
    "base = # TODO\n",
    "bdt = # TODO\n",
    "bdt.fit(X_train, y_train)\n",
    "bdt_preds = bdt.predict(X_test)\n",
    "bdt_acc = accuracy_score(y_test, bdt_preds)\n",
    "print(\"Final test accuracy for AdaBoost: {}\".format(bdt_acc))"
   ]
  },
  {
   "cell_type": "code",
   "execution_count": null,
   "metadata": {},
   "outputs": [],
   "source": []
  }
 ],
 "metadata": {
  "kernelspec": {
   "display_name": "Python 3",
   "language": "python",
   "name": "python3"
  },
  "language_info": {
   "codemirror_mode": {
    "name": "ipython",
    "version": 3
   },
   "file_extension": ".py",
   "mimetype": "text/x-python",
   "name": "python",
   "nbconvert_exporter": "python",
   "pygments_lexer": "ipython3",
   "version": "3.6.6"
  }
 },
 "nbformat": 4,
 "nbformat_minor": 2
}
