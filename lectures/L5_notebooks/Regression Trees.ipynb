{
 "cells": [
  {
   "cell_type": "code",
   "execution_count": null,
   "metadata": {},
   "outputs": [],
   "source": [
    "%matplotlib inline\n",
    "import numpy as np\n",
    "np.random.seed(0)\n",
    "import matplotlib.pyplot as plt"
   ]
  },
  {
   "cell_type": "code",
   "execution_count": null,
   "metadata": {},
   "outputs": [],
   "source": [
    "# artificial dataset\n",
    "n_samples = 100\n",
    "X = np.sort(5 * np.random.rand(n_samples, 1), axis=0).reshape((n_samples,1))\n",
    "y = np.sin(X) + 0.2*np.random.randn(n_samples).reshape((n_samples,1))"
   ]
  },
  {
   "cell_type": "code",
   "execution_count": null,
   "metadata": {},
   "outputs": [],
   "source": [
    "# plot the data\n",
    "plt.figure(figsize=(10,6))\n",
    "plt.scatter(X, y, c=\"darkorange\", label=\"Data (n=100)\", s=25)\n",
    "plt.show()"
   ]
  },
  {
   "cell_type": "code",
   "execution_count": null,
   "metadata": {},
   "outputs": [],
   "source": [
    "from sklearn.tree import DecisionTreeRegressor\n",
    "\n",
    "# YOUR TASK: Try out different values for the parameter 'min_samples_split'! \n",
    "#\n",
    "# You can find a description of the parameters here: \n",
    "# http://scikit-learn.org/stable/modules/generated/sklearn.tree.DecisionTreeRegressor.html\n",
    "\n",
    "min_samples_split = 2\n",
    "\n",
    "# instantiate model and fit it!\n",
    "model = DecisionTreeRegressor(min_samples_split=min_samples_split)\n",
    "model.fit(X,y)"
   ]
  },
  {
   "cell_type": "code",
   "execution_count": null,
   "metadata": {},
   "outputs": [],
   "source": [
    "# get predictions for the plotting range\n",
    "X_plot = np.arange(0.0, 5.0, 0.01).reshape((-1,1))\n",
    "preds = model.predict(X_plot)"
   ]
  },
  {
   "cell_type": "code",
   "execution_count": null,
   "metadata": {},
   "outputs": [],
   "source": [
    "# visualize the result!\n",
    "plt.figure(figsize=(10,6))\n",
    "plt.scatter(X, y, c=\"darkorange\", label=\"Data (n={})\".format(n_samples), s=25)\n",
    "plt.plot(X_plot, preds, color=\"cornflowerblue\", label=\"Model\", linewidth=3)\n",
    "plt.xlabel(\"X\", fontsize=18)\n",
    "plt.ylabel(\"Y\", fontsize=18)\n",
    "plt.title(\"Regression Tree (m={})\".format(min_samples_split), fontsize=16)\n",
    "plt.legend()"
   ]
  },
  {
   "cell_type": "code",
   "execution_count": null,
   "metadata": {},
   "outputs": [],
   "source": []
  },
  {
   "cell_type": "code",
   "execution_count": null,
   "metadata": {},
   "outputs": [],
   "source": []
  }
 ],
 "metadata": {
  "kernelspec": {
   "display_name": "Python 3",
   "language": "python",
   "name": "python3"
  },
  "language_info": {
   "codemirror_mode": {
    "name": "ipython",
    "version": 3
   },
   "file_extension": ".py",
   "mimetype": "text/x-python",
   "name": "python",
   "nbconvert_exporter": "python",
   "pygments_lexer": "ipython3",
   "version": "3.6.6"
  }
 },
 "nbformat": 4,
 "nbformat_minor": 2
}
