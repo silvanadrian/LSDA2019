{
 "cells": [
  {
   "cell_type": "markdown",
   "metadata": {},
   "source": [
    "K-Means for the Iris dataset on Apache Spark (based on https://github.com/apache/spark/blob/master/examples/src/main/python/kmeans.py)"
   ]
  },
  {
   "cell_type": "code",
   "execution_count": null,
   "metadata": {},
   "outputs": [],
   "source": [
    "import numpy as np"
   ]
  },
  {
   "cell_type": "code",
   "execution_count": null,
   "metadata": {},
   "outputs": [],
   "source": [
    "# NOTE: Start the distributed file system first\n",
    "# read input data from HDFS\n",
    "lines = sc.textFile(\"hdfs:///user/lsda/iris.data\")"
   ]
  },
  {
   "cell_type": "code",
   "execution_count": null,
   "metadata": {},
   "outputs": [],
   "source": [
    "def parseVector(line):\n",
    "    \"\"\" Parses an input line and generates a \n",
    "    vector (numpy array) containing the points.\n",
    "    \"\"\"\n",
    "        \n",
    "    # last entry is the label (not used for K-Means)\n",
    "    return np.array([float(x) for x in line.split(',')[:-1]])"
   ]
  },
  {
   "cell_type": "code",
   "execution_count": null,
   "metadata": {},
   "outputs": [],
   "source": [
    "def closestPoint(p):\n",
    "    \"\"\" Gets a new point p computes the\n",
    "    closest cluster index for p given the\n",
    "    broadcasted centers\n",
    "    \"\"\"\n",
    "    \n",
    "    # get broadcasted centers\n",
    "    centers = centers_bc.value\n",
    "    \n",
    "    bestIndex = 0\n",
    "    closest = float(\"+inf\")\n",
    "    \n",
    "    for i in range(len(centers)):\n",
    "        \n",
    "        tempDist = np.sum((p - centers[i]) ** 2)\n",
    "        \n",
    "        if tempDist < closest:\n",
    "            closest = tempDist\n",
    "            bestIndex = i\n",
    "\n",
    "    return bestIndex"
   ]
  },
  {
   "cell_type": "code",
   "execution_count": null,
   "metadata": {},
   "outputs": [],
   "source": [
    "# important: filter bad lines beforehand!\n",
    "lines_filtered = lines.filter(lambda line: len(line.split(\",\")) == 5)\n",
    "\n",
    "# let us cache the data since we will need it in many iterations!\n",
    "data = lines_filtered.map(parseVector).cache()"
   ]
  },
  {
   "cell_type": "code",
   "execution_count": null,
   "metadata": {},
   "outputs": [],
   "source": [
    "K = 3\n",
    "convergeDist = 0.0001"
   ]
  },
  {
   "cell_type": "code",
   "execution_count": null,
   "metadata": {},
   "outputs": [],
   "source": [
    "# take K points without replacement; use seed 1\n",
    "centers = data.takeSample(False, K, 1)\n",
    "\n",
    "# current distance (big value)\n",
    "d = 1000.0\n",
    "iteration = 0\n",
    "\n",
    "while d > convergeDist:\n",
    "    \n",
    "    # broadcast the current cluster centers\n",
    "    # (not optimal to use here: see discussion during lecture)\n",
    "    centers_bc = sc.broadcast(centers) \n",
    "\n",
    "    # compute closest cluster index for each point\n",
    "    closest = data.map(lambda p: (closestPoint(p), (p, 1)))\n",
    "    \n",
    "    # for each key (cluster index), compute the sum of centers and the sum of points\n",
    "    stats = closest.reduceByKey(lambda p1_c1, p2_c2: (p1_c1[0] + p2_c2[0], p1_c1[1] + p2_c2[1]))\n",
    "    \n",
    "    # for each (key,value) == (cluster_index, (sums, counts)), compute new centers\n",
    "    new_centers_pairs = stats.map(lambda st: (st[0], st[1][0] / st[1][1])).collect()\n",
    "    # compute distance between old and new cluster centers\n",
    "    d = sum(np.sum((centers[index] - c) ** 2) for (index, c) in new_centers_pairs)\n",
    "\n",
    "    # the (key,value) pairs are not necessarily sorted; we have to \n",
    "    # overwrite the current cluster centers in the right way (based \n",
    "    # provided cluster index)\n",
    "    for (iK, p) in new_centers_pairs:\n",
    "        centers[iK] = p\n",
    "        \n",
    "    print(\"Iteration {}: {}\".format(iteration, d))        \n",
    "    iteration += 1"
   ]
  },
  {
   "cell_type": "code",
   "execution_count": null,
   "metadata": {},
   "outputs": [],
   "source": [
    "print(\"Final cluster centers:\\n\")\n",
    "for c in centers:\n",
    "    print(c)"
   ]
  },
  {
   "cell_type": "code",
   "execution_count": null,
   "metadata": {},
   "outputs": [],
   "source": []
  }
 ],
 "metadata": {
  "kernelspec": {
   "display_name": "Python 3",
   "language": "python",
   "name": "python3"
  },
  "language_info": {
   "codemirror_mode": {
    "name": "ipython",
    "version": 3
   },
   "file_extension": ".py",
   "mimetype": "text/x-python",
   "name": "python",
   "nbconvert_exporter": "python",
   "pygments_lexer": "ipython3",
   "version": "3.6.7"
  }
 },
 "nbformat": 4,
 "nbformat_minor": 2
}
