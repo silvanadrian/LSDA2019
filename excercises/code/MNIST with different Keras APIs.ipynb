{
 "cells": [
  {
   "cell_type": "code",
   "execution_count": null,
   "metadata": {},
   "outputs": [],
   "source": [
    "import tensorflow as tf\n",
    "print(\"TensorFlow version:\", tf.__version__)\n",
    "%load_ext tensorboard.notebook"
   ]
  },
  {
   "cell_type": "code",
   "execution_count": null,
   "metadata": {},
   "outputs": [],
   "source": [
    "print(\"Loading MNIST ...\", end = \" \");\n",
    "(train_images, train_labels), (test_images, test_labels) = tf.keras.datasets.mnist.load_data()\n",
    "train_images = train_images.reshape((60000, 28, 28, 1))\n",
    "test_images = test_images.reshape((10000, 28, 28, 1))\n",
    "\n",
    "# Normalize pixel values to be between 0 and 1\n",
    "train_images, test_images = train_images / 255.0, test_images / 255.0\n",
    "print(\"done.\")"
   ]
  },
  {
   "cell_type": "code",
   "execution_count": null,
   "metadata": {
    "scrolled": true
   },
   "outputs": [],
   "source": [
    "model = tf.keras.models.Sequential()\n",
    "model.add(tf.keras.layers.Conv2D(32, (3, 3), activation='relu', input_shape=(28, 28, 1)))\n",
    "model.add(tf.keras.layers.MaxPooling2D((2, 2)))\n",
    "model.add(tf.keras.layers.Conv2D(64, (3, 3), activation='relu'))\n",
    "model.add(tf.keras.layers.MaxPooling2D((2, 2)))\n",
    "model.add(tf.keras.layers.Conv2D(64, (3, 3), activation='relu'))\n",
    "model.add(tf.keras.layers.Flatten())\n",
    "model.add(tf.keras.layers.Dense(64, activation='relu'))\n",
    "model.add(tf.keras.layers.Dense(10, activation='softmax'))\n",
    "\n",
    "print(model.summary())"
   ]
  },
  {
   "cell_type": "code",
   "execution_count": null,
   "metadata": {},
   "outputs": [],
   "source": [
    "model = tf.keras.models.Sequential([\n",
    "    tf.keras.layers.Conv2D(32, (3, 3), activation='relu', input_shape=(28, 28, 1)),\n",
    "    tf.keras.layers.MaxPooling2D((2, 2)),\n",
    "    tf.keras.layers.Conv2D(64, (3, 3), activation='relu'),\n",
    "    tf.keras.layers.MaxPooling2D((2, 2)),\n",
    "    tf.keras.layers.Conv2D(64, (3, 3), activation='relu'),\n",
    "    tf.keras.layers.Flatten(),\n",
    "    tf.keras.layers.Dense(64, activation='relu'),\n",
    "    tf.keras.layers.Dense(10, activation='softmax')])\n",
    "\n",
    "print(model.summary())"
   ]
  },
  {
   "cell_type": "markdown",
   "metadata": {},
   "source": [
    "Functional interface:"
   ]
  },
  {
   "cell_type": "code",
   "execution_count": null,
   "metadata": {},
   "outputs": [],
   "source": [
    "inputs = tf.keras.Input(shape=(28, 28, 1))\n",
    "l = tf.keras.layers.Conv2D(32, (3, 3), activation='relu', input_shape=(28, 28, 1))(inputs)\n",
    "l = tf.keras.layers.MaxPooling2D((2, 2))(l)\n",
    "l = tf.keras.layers.Conv2D(64, (3, 3), activation='relu')(l)\n",
    "l = tf.keras.layers.MaxPooling2D((2, 2))(l)\n",
    "l = tf.keras.layers.Conv2D(64, (3, 3), activation='relu')(l)\n",
    "l = tf.keras.layers.Flatten()(l)\n",
    "l = tf.keras.layers.Dense(64, activation='relu')(l)\n",
    "predictions = tf.keras.layers.Dense(10, activation='softmax')(l)\n",
    "\n",
    "# Instantiate model\n",
    "model = tf.keras.Model(inputs=inputs, outputs=predictions)\n",
    "\n",
    "print(model.summary())"
   ]
  },
  {
   "cell_type": "code",
   "execution_count": null,
   "metadata": {},
   "outputs": [],
   "source": [
    "callbacks = [\n",
    "  tf.keras.callbacks.TensorBoard(log_dir='./logs', update_freq='batch')\n",
    "]\n",
    "model.compile(optimizer='adam',\n",
    "              loss='sparse_categorical_crossentropy',\n",
    "              metrics=['accuracy'])\n",
    "\n",
    "model.fit(train_images, train_labels, batch_size=32, epochs=5, callbacks=callbacks)"
   ]
  },
  {
   "cell_type": "code",
   "execution_count": null,
   "metadata": {},
   "outputs": [],
   "source": [
    "test_loss, test_acc = model.evaluate(test_images, test_labels)\n",
    "print(\"Test accuracy:\", test_acc)"
   ]
  },
  {
   "cell_type": "markdown",
   "metadata": {},
   "source": [
    "Model subclassing API:"
   ]
  },
  {
   "cell_type": "code",
   "execution_count": null,
   "metadata": {},
   "outputs": [],
   "source": [
    "class MyModel(tf.keras.Model):\n",
    " def __init__(self):\n",
    "   super(MyModel, self).__init__()\n",
    "   # Define your layers here.\n",
    "   self.conv_1 = tf.keras.layers.Conv2D(32, (3, 3), activation='relu', input_shape=(28, 28, 1))\n",
    "   self.pool_1 = tf.keras.layers.MaxPooling2D((2, 2))\n",
    "   self.conv_2 = tf.keras.layers.Conv2D(64, (3, 3), activation='relu')\n",
    "   self.pool_2 = tf.keras.layers.MaxPooling2D((2, 2))\n",
    "   self.conv_3 = tf.keras.layers.Conv2D(64, (3, 3), activation='relu')\n",
    "   self.flat = tf.keras.layers.Flatten()\n",
    "   self.dense = tf.keras.layers.Dense(64, activation='relu')\n",
    "   self.predictions = tf.keras.layers.Dense(10, activation='softmax')\n",
    " def call(self, inputs, training=None):\n",
    "   # Define your forward pass here,\n",
    "   # using layers you previously defined in `__init__`\n",
    "   # With the Boolean training flag, you can have different bahavior in training and testing \n",
    "   # (e.g., needed for dropout, batch normalization, ...)\n",
    "   return self.predictions(self.dense(self.flat(self.conv_3(self.pool_2(self.conv_2(self.pool_1(self.conv_1(inputs))))))))\n",
    "\n",
    "model = MyModel()\n",
    "\n",
    "callbacks = [\n",
    "  tf.keras.callbacks.TensorBoard(log_dir='./logs', update_freq='batch')\n",
    "]\n",
    "model.compile(optimizer='adam',\n",
    "              loss='sparse_categorical_crossentropy',\n",
    "              metrics=['accuracy'])\n",
    "\n",
    "model.fit(train_images, train_labels, batch_size=32, epochs=5, callbacks=callbacks)\n",
    "\n",
    "print(model.summary()) # Has to come after model.fit \n",
    "\n",
    "test_loss, test_acc = model.evaluate(test_images, test_labels)\n",
    "print(\"Test accuracy:\", test_acc)"
   ]
  },
  {
   "cell_type": "code",
   "execution_count": null,
   "metadata": {},
   "outputs": [],
   "source": [
    "%tensorboard --logdir logs"
   ]
  }
 ],
 "metadata": {
  "kernelspec": {
   "display_name": "Python 3",
   "language": "python",
   "name": "python3"
  },
  "language_info": {
   "codemirror_mode": {
    "name": "ipython",
    "version": 3
   },
   "file_extension": ".py",
   "mimetype": "text/x-python",
   "name": "python",
   "nbconvert_exporter": "python",
   "pygments_lexer": "ipython3",
   "version": "3.6.8"
  }
 },
 "nbformat": 4,
 "nbformat_minor": 2
}
